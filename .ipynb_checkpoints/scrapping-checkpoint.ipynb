{
 "cells": [
  {
   "cell_type": "code",
   "execution_count": 1,
   "metadata": {},
   "outputs": [],
   "source": [
    "from bs4 import BeautifulSoup as bs\n",
    "import requests\n",
    "import json\n",
    "import numpy as np\n",
    "import pandas as pd\n",
    "#import pymongo\n",
    "import base64\n",
    "import bson\n",
    "#from bson.binary import Binary\n",
    "import os\n",
    "import pdfplumber\n",
    "from urllib.parse import unquote\n",
    "import re"
   ]
  },
  {
   "cell_type": "code",
   "execution_count": 2,
   "metadata": {},
   "outputs": [],
   "source": [
    "Domain='http://www.bvmt.com.tn/'\n",
    "URL='http://www.bvmt.com.tn/fr/ab-etats-financiers-semestriels-30-06-2020'\n",
    "FILETYPE='.pdf'\n",
    "URL0=\"http://www.bvmt.com.tn/fr/entreprises/list\"\n",
    "#URL1=\"http://www.bvmt.com.tn/fr/documents/\"+y+\"/18/list\""
   ]
  },
  {
   "cell_type": "code",
   "execution_count": 3,
   "metadata": {},
   "outputs": [],
   "source": [
    "def get_soup(url):\n",
    "    return bs(requests.get(url).text,'html.parser')"
   ]
  },
  {
   "cell_type": "code",
   "execution_count": 4,
   "metadata": {},
   "outputs": [
    {
     "name": "stdout",
     "output_type": "stream",
     "text": [
      "93\n",
      "68\n",
      "134\n",
      "86\n",
      "87\n",
      "136\n",
      "64\n",
      "70\n",
      "58\n",
      "24\n",
      "49\n",
      "41\n",
      "50\n",
      "1528\n",
      "583\n",
      "42\n",
      "57\n",
      "26\n",
      "43\n",
      "44\n",
      "46\n",
      "60\n",
      "83\n",
      "1174\n",
      "9258\n",
      "51\n",
      "82\n",
      "1124\n",
      "8574\n",
      "77\n",
      "39\n",
      "78\n",
      "184\n",
      "71\n",
      "183\n",
      "88\n",
      "135\n",
      "38\n",
      "1566\n",
      "65\n",
      "1171\n",
      "185\n",
      "133\n",
      "10708\n",
      "54\n",
      "76\n",
      "1170\n",
      "12625\n",
      "12356\n",
      "63\n",
      "74\n",
      "84\n",
      "79\n",
      "69\n",
      "80\n",
      "81\n",
      "37\n",
      "1173\n",
      "62\n",
      "1274\n",
      "90\n",
      "66\n",
      "85\n",
      "55\n",
      "59\n",
      "45\n",
      "72\n",
      "73\n",
      "1278\n",
      "91\n",
      "89\n",
      "56\n",
      "61\n",
      "67\n",
      "53\n",
      "10028\n",
      "47\n",
      "48\n",
      "11547\n",
      "52\n"
     ]
    }
   ],
   "source": [
    "ListID = []\n",
    "for link in get_soup(URL0).find_all('option'):\n",
    "    file_link = link.get('uri')\n",
    "    #print(file_link)\n",
    "    if file_link is not None:\n",
    "        new=file_link.replace('/fr/profile-emetteur_profile/','')\n",
    "        print(new)\n",
    "        ListID.append(new)\n",
    "        file_name = link.text"
   ]
  },
  {
   "cell_type": "code",
   "execution_count": 5,
   "metadata": {},
   "outputs": [
    {
     "name": "stdout",
     "output_type": "stream",
     "text": [
      "['93', '68', '134', '86', '87', '136', '64', '70', '58', '24', '49', '41', '50', '1528', '583', '42', '57', '26', '43', '44', '46', '60', '83', '1174', '9258', '51', '82', '1124', '8574', '77', '39', '78', '184', '71', '183', '88', '135', '38', '1566', '65', '1171', '185', '133', '10708', '54', '76', '1170', '12625', '12356', '63', '74', '84', '79', '69', '80', '81', '37', '1173', '62', '1274', '90', '66', '85', '55', '59', '45', '72', '73', '1278', '91', '89', '56', '61', '67', '53', '10028', '47', '48', '11547', '52']\n"
     ]
    }
   ],
   "source": [
    "print(ListID)"
   ]
  },
  {
   "cell_type": "code",
   "execution_count": 27,
   "metadata": {},
   "outputs": [
    {
     "name": "stdout",
     "output_type": "stream",
     "text": [
      "<div class=\"savoir-plus-actu\" onclick=\"document.location.href='/fr/ab-etats-financiers-annuels-consolid%C3%A9s-31-12-2019'\"></div>\n",
      "None\n",
      "pas de bilan\n",
      "None\n",
      "pas de bilan\n",
      "<div class=\"savoir-plus-actu\" onclick=\"document.location.href='/fr/al-etats-financiers-annuels-consolid%C3%A9s-31-12-2019'\"></div>\n",
      "<div class=\"savoir-plus-actu\" onclick=\"document.location.href='/fr/alkim-etats-financiers-annuels-consolid%C3%A9s-31-12-2019'\"></div>\n",
      "<div class=\"savoir-plus-actu\" onclick=\"document.location.href='/fr/ams-etats-financiers-annuels-consolid%C3%A9s-31-12-2015'\"></div>\n",
      "<div class=\"savoir-plus-actu\" onclick=\"document.location.href='/fr/artes-etats-financiers-annuels-consolid%C3%A9s-31-12-2019'\"></div>\n",
      "<div class=\"savoir-plus-actu\" onclick=\"document.location.href='/fr/assad-etats-financiers-annuels-consolid%C3%A9s-31-12-2019'\"></div>\n",
      "None\n",
      "pas de bilan\n",
      "<div class=\"savoir-plus-actu\" onclick=\"document.location.href='/fr/atb-etats-financiers-annuels-consolid%C3%A9s-31-12-2019'\"></div>\n",
      "<div class=\"savoir-plus-actu\" onclick=\"document.location.href='/fr/atl-etats-financiers-annuels-consolid%C3%A9s-31-12-2019'\"></div>\n",
      "<div class=\"savoir-plus-actu\" onclick=\"document.location.href='/fr/tjari-etats-financiers-annuels-consolid%C3%A9s-31-12-2019'\"></div>\n",
      "None\n",
      "pas de bilan\n",
      "<div class=\"savoir-plus-actu\" onclick=\"document.location.href='/fr/maghrebia-etats-financiers-annuels-consolid%C3%A9s-31-12-2018-0'\"></div>\n",
      "None\n",
      "pas de bilan\n",
      "<div class=\"savoir-plus-actu\" onclick=\"document.location.href='/fr/bh-etats-financiers-annuels-consolid%C3%A9s-31-12-2019'\"></div>\n",
      "None\n",
      "pas de bilan\n",
      "<div class=\"savoir-plus-actu\" onclick=\"document.location.href='/fr/biat-etats-financiers-annuels-consolid%C3%A9s-31-12-2019'\"></div>\n",
      "<div class=\"savoir-plus-actu\" onclick=\"document.location.href='/fr/bna-etats-financiers-annuels-consolid%C3%A9s-31-12-2019'\"></div>\n",
      "<div class=\"savoir-plus-actu\" onclick=\"document.location.href='/fr/bt-etats-financiers-annuels-consolid%C3%A9s-31-12-2019'\"></div>\n",
      "<div class=\"savoir-plus-actu\" onclick=\"document.location.href='/fr/bte-etats-financiers-annuels-consolid%C3%A9s-31-12-2019'\"></div>\n",
      "None\n",
      "pas de bilan\n",
      "None\n",
      "pas de bilan\n",
      "<div class=\"savoir-plus-actu\" onclick=\"document.location.href='/fr/cell-etats-financiers-annuels-consolid%C3%A9s-31-12-2019'\"></div>\n",
      "<div class=\"savoir-plus-actu\" onclick=\"document.location.href='/fr/creal-etats-financiers-annuels-consolid%C3%A9s-31-12-2019'\"></div>\n",
      "<div class=\"savoir-plus-actu\" onclick=\"document.location.href='/fr/cil-etats-financiers-annuels-consolid%C3%A9s-31-12-2019'\"></div>\n",
      "None\n",
      "pas de bilan\n",
      "<div class=\"savoir-plus-actu\" onclick=\"document.location.href='/fr/city-etats-financiers-annuels-consolid%C3%A9s-31-12-2019'\"></div>\n",
      "<div class=\"savoir-plus-actu\" onclick=\"document.location.href='/fr/dh-etats-financiers-annuels-consolid%C3%A9s-31-12-2019'\"></div>\n",
      "<div class=\"savoir-plus-actu\" onclick=\"document.location.href='/fr/lstr-etats-financiers-annuels-consolid%C3%A9s-31-12-2019'\"></div>\n",
      "<div class=\"savoir-plus-actu\" onclick=\"document.location.href='/fr/nakl-etats-financiers-semestriels-consolid%C3%A9s-30-06-2020'\"></div>\n",
      "<div class=\"savoir-plus-actu\" onclick=\"document.location.href='/fr/sokna-etats-financiers-annuels-consolid%C3%A9s-31-12-2019'\"></div>\n",
      "<div class=\"savoir-plus-actu\" onclick=\"document.location.href='/fr/ecycl-etats-financiers-semestriels-consolid%C3%A9s-30-06-2020'\"></div>\n",
      "<div class=\"savoir-plus-actu\" onclick=\"document.location.href='/fr/gif-etats-financiers-annuels-consolid%C3%A9s-31-12-2019'\"></div>\n",
      "<div class=\"savoir-plus-actu\" onclick=\"document.location.href='/fr/hl-etats-financiers-annuels-consolid%C3%A9s-31-12-2019'\"></div>\n",
      "None\n",
      "pas de bilan\n",
      "<div class=\"savoir-plus-actu\" onclick=\"document.location.href='/fr/lndor-etats-financiers-annuels-consolid%C3%A9s-31-12-2019'\"></div>\n",
      "<div class=\"savoir-plus-actu\" onclick=\"document.location.href='/fr/mag-etats-financiers-annuels-consolid%C3%A9s-31-12-2019'\"></div>\n",
      "<div class=\"savoir-plus-actu\" onclick=\"document.location.href='/fr/mip-etats-financiers-annuels-consolid%C3%A9s-31-12-2019'\"></div>\n",
      "<div class=\"savoir-plus-actu\" onclick=\"document.location.href='/fr/mnp-etats-financiers-annuels-consolid%C3%A9s-31-12-2019'\"></div>\n",
      "<div class=\"savoir-plus-actu\" onclick=\"document.location.href='/fr/mpbs-etats-financiers-annuels-consolid%C3%A9s-31-12-2019'\"></div>\n",
      "None\n",
      "pas de bilan\n",
      "<div class=\"savoir-plus-actu\" onclick=\"document.location.href='/fr/oth-etats-financiers-semestriels-consolid%C3%A9s-30-06-2020'\"></div>\n",
      "<div class=\"savoir-plus-actu\" onclick=\"document.location.href='/fr/office-plast-etats-financiers-annuels-consolid%C3%A9s-31-12-2019'\"></div>\n",
      "None\n",
      "pas de bilan\n",
      "<div class=\"savoir-plus-actu\" onclick=\"document.location.href='/fr/pgh-etats-financiers-semestriels-consolid%C3%A9s-30-06-2020'\"></div>\n",
      "<div class=\"savoir-plus-actu\" onclick=\"document.location.href='/fr/sah-etats-financiers-semestriels-consolid%C3%A9s-30-06-2020'\"></div>\n",
      "<div class=\"savoir-plus-actu\" onclick=\"document.location.href='/fr/sam-etats-financiers-annuels-consolid%C3%A9s-31-12-2019'\"></div>\n",
      "None\n",
      "pas de bilan\n",
      "<div class=\"savoir-plus-actu\" onclick=\"document.location.href='/fr/servi-etats-financiers-annuels-consolid%C3%A9s-31-12-2018'\"></div>\n",
      "<div class=\"savoir-plus-actu\" onclick=\"document.location.href='/fr/sfbt-etats-financiers-annuels-consolid%C3%A9s-31-12-2019'\"></div>\n",
      "<div class=\"savoir-plus-actu\" onclick=\"document.location.href='/fr/siame-etats-financiers-annuels-consolid%C3%A9s-31-12-2019'\"></div>\n",
      "<div class=\"savoir-plus-actu\" onclick=\"document.location.href='/fr/simpa-etats-financiers-annuels-consolid%C3%A9s-31-12-2019'\"></div>\n",
      "None\n",
      "pas de bilan\n",
      "<div class=\"savoir-plus-actu\" onclick=\"document.location.href='/fr/sits-etats-financiers-annuels-consolid%C3%A9s-31-12-2019'\"></div>\n",
      "<div class=\"savoir-plus-actu\" onclick=\"document.location.href='/fr/somoc-etats-financiers-annuels-consolid%C3%A9s-31-12-2019'\"></div>\n",
      "None\n",
      "pas de bilan\n",
      "None\n",
      "pas de bilan\n",
      "None\n",
      "pas de bilan\n",
      "<div class=\"savoir-plus-actu\" onclick=\"document.location.href='/fr/stpap-etats-financiers-annuels-consolid%C3%A9s-31-12-2019'\"></div>\n",
      "None\n",
      "pas de bilan\n",
      "None\n",
      "pas de bilan\n",
      "<div class=\"savoir-plus-actu\" onclick=\"document.location.href='/fr/sotuv-etats-financiers-annuels-consolid%C3%A9s-31-12-2019'\"></div>\n",
      "None\n",
      "pas de bilan\n",
      "None\n",
      "pas de bilan\n",
      "<div class=\"savoir-plus-actu\" onclick=\"document.location.href='/fr/stb-etats-financiers-annuels-consolid%C3%A9s-31-12-2019'\"></div>\n",
      "None\n",
      "pas de bilan\n",
      "<div class=\"savoir-plus-actu\" onclick=\"document.location.href='/fr/stip-etats-financiers-annuels-consolid%C3%A9s-31-12-2020'\"></div>\n",
      "<div class=\"savoir-plus-actu\" onclick=\"document.location.href='/fr/tgh-etats-financiers-annuels-consolid%C3%A9s-31-12-2018'\"></div>\n",
      "<div class=\"savoir-plus-actu\" onclick=\"document.location.href='/fr/tlnet-etats-financiers-annuels-consolid%C3%A9s-31-12-2019'\"></div>\n",
      "<div class=\"savoir-plus-actu\" onclick=\"document.location.href='/fr/tpr-etats-financiers-annuels-consolid%C3%A9s-31-12-2018'\"></div>\n",
      "None\n",
      "pas de bilan\n",
      "None\n",
      "pas de bilan\n",
      "<div class=\"savoir-plus-actu\" onclick=\"document.location.href='/fr/tair-etats-financiers-annuels-consolid%C3%A9s-31-12-2017'\"></div>\n",
      "<div class=\"savoir-plus-actu\" onclick=\"document.location.href='/fr/tls-etats-financiers-annuels-consolid%C3%A9s-31-12-2019'\"></div>\n",
      "<div class=\"savoir-plus-actu\" onclick=\"document.location.href='/fr/uadh-etats-financiers-annuels-consolid%C3%A9s-31-12-2017'\"></div>\n",
      "<div class=\"savoir-plus-actu\" onclick=\"document.location.href='/fr/ubci-etats-financiers-annuels-consolid%C3%A9s-31-12-2019'\"></div>\n",
      "<div class=\"savoir-plus-actu\" onclick=\"document.location.href='/fr/uib-etats-financiers-annuels-consolid%C3%A9s-31-12-2019'\"></div>\n",
      "None\n",
      "pas de bilan\n",
      "<div class=\"savoir-plus-actu\" onclick=\"document.location.href='/fr/wifack-international-bank-etats-financiers-annuels-consolid%C3%A9s-31-12-2019'\"></div>\n"
     ]
    }
   ],
   "source": [
    "# Recupere les liens de chaque entreprise\n",
    "urls = []\n",
    "urls1 = []\n",
    "urls3 = []\n",
    "\n",
    "for item in ListID:\n",
    "    site= \"http://www.bvmt.com.tn/fr/documents/\"+item+\"/18/list\"\n",
    "    s = get_soup(site)\n",
    "    \n",
    "    #verifie si l'entreprise a un bilan consolidé\n",
    "    pdf0=s.find(\"div\", {'onclick' : re.compile(\"consolid\",re.IGNORECASE)})\n",
    "\n",
    "    print(pdf0)\n",
    "    \n",
    "    #si l'entreprise n'a pas de bilan consolidé\n",
    "    if(pdf0 is None):\n",
    "        print(\"pas de bilan\")\n",
    "    #sinon ajoute le lien de l'entreprise dans la liste\n",
    "    else :\n",
    "        pdf1=pdf0.get('onclick')\n",
    "        newpdf=pdf1.replace('document.location.href=\\'','')\n",
    "        newpdf=newpdf.replace('\\'','')\n",
    "    \n",
    "        urls3.append(newpdf)\n",
    "    \n",
    " \n",
    "                \n",
    "        \n",
    "        #if href.startswith(\"/fr/content/cours\"):\n",
    "            #urls.append(href)"
   ]
  },
  {
   "cell_type": "code",
   "execution_count": 25,
   "metadata": {},
   "outputs": [],
   "source": [
    "def download_file(url):\n",
    "    local_filename = url.split('/')[-1]\n",
    "    \n",
    "    with requests.get(url) as r:\n",
    "        assert r.status_code == 200, f'error, status code is {r.status_code}'\n",
    "        with open(local_filename, 'wb') as f:\n",
    "            f.write(r.content)\n",
    "        \n",
    "    return local_filename"
   ]
  },
  {
   "cell_type": "code",
   "execution_count": 28,
   "metadata": {
    "scrolled": true
   },
   "outputs": [
    {
     "name": "stdout",
     "output_type": "stream",
     "text": [
      "['/fr/ab-etats-financiers-annuels-consolid%C3%A9s-31-12-2019', '/fr/al-etats-financiers-annuels-consolid%C3%A9s-31-12-2019', '/fr/alkim-etats-financiers-annuels-consolid%C3%A9s-31-12-2019', '/fr/ams-etats-financiers-annuels-consolid%C3%A9s-31-12-2015', '/fr/artes-etats-financiers-annuels-consolid%C3%A9s-31-12-2019', '/fr/assad-etats-financiers-annuels-consolid%C3%A9s-31-12-2019', '/fr/atb-etats-financiers-annuels-consolid%C3%A9s-31-12-2019', '/fr/atl-etats-financiers-annuels-consolid%C3%A9s-31-12-2019', '/fr/tjari-etats-financiers-annuels-consolid%C3%A9s-31-12-2019', '/fr/maghrebia-etats-financiers-annuels-consolid%C3%A9s-31-12-2018-0', '/fr/bh-etats-financiers-annuels-consolid%C3%A9s-31-12-2019', '/fr/biat-etats-financiers-annuels-consolid%C3%A9s-31-12-2019', '/fr/bna-etats-financiers-annuels-consolid%C3%A9s-31-12-2019', '/fr/bt-etats-financiers-annuels-consolid%C3%A9s-31-12-2019', '/fr/bte-etats-financiers-annuels-consolid%C3%A9s-31-12-2019', '/fr/cell-etats-financiers-annuels-consolid%C3%A9s-31-12-2019', '/fr/creal-etats-financiers-annuels-consolid%C3%A9s-31-12-2019', '/fr/cil-etats-financiers-annuels-consolid%C3%A9s-31-12-2019', '/fr/city-etats-financiers-annuels-consolid%C3%A9s-31-12-2019', '/fr/dh-etats-financiers-annuels-consolid%C3%A9s-31-12-2019', '/fr/lstr-etats-financiers-annuels-consolid%C3%A9s-31-12-2019', '/fr/nakl-etats-financiers-semestriels-consolid%C3%A9s-30-06-2020', '/fr/sokna-etats-financiers-annuels-consolid%C3%A9s-31-12-2019', '/fr/ecycl-etats-financiers-semestriels-consolid%C3%A9s-30-06-2020', '/fr/gif-etats-financiers-annuels-consolid%C3%A9s-31-12-2019', '/fr/hl-etats-financiers-annuels-consolid%C3%A9s-31-12-2019', '/fr/lndor-etats-financiers-annuels-consolid%C3%A9s-31-12-2019', '/fr/mag-etats-financiers-annuels-consolid%C3%A9s-31-12-2019', '/fr/mip-etats-financiers-annuels-consolid%C3%A9s-31-12-2019', '/fr/mnp-etats-financiers-annuels-consolid%C3%A9s-31-12-2019', '/fr/mpbs-etats-financiers-annuels-consolid%C3%A9s-31-12-2019', '/fr/oth-etats-financiers-semestriels-consolid%C3%A9s-30-06-2020', '/fr/office-plast-etats-financiers-annuels-consolid%C3%A9s-31-12-2019', '/fr/pgh-etats-financiers-semestriels-consolid%C3%A9s-30-06-2020', '/fr/sah-etats-financiers-semestriels-consolid%C3%A9s-30-06-2020', '/fr/sam-etats-financiers-annuels-consolid%C3%A9s-31-12-2019', '/fr/servi-etats-financiers-annuels-consolid%C3%A9s-31-12-2018', '/fr/sfbt-etats-financiers-annuels-consolid%C3%A9s-31-12-2019', '/fr/siame-etats-financiers-annuels-consolid%C3%A9s-31-12-2019', '/fr/simpa-etats-financiers-annuels-consolid%C3%A9s-31-12-2019', '/fr/sits-etats-financiers-annuels-consolid%C3%A9s-31-12-2019', '/fr/somoc-etats-financiers-annuels-consolid%C3%A9s-31-12-2019', '/fr/stpap-etats-financiers-annuels-consolid%C3%A9s-31-12-2019', '/fr/sotuv-etats-financiers-annuels-consolid%C3%A9s-31-12-2019', '/fr/stb-etats-financiers-annuels-consolid%C3%A9s-31-12-2019', '/fr/stip-etats-financiers-annuels-consolid%C3%A9s-31-12-2020', '/fr/tgh-etats-financiers-annuels-consolid%C3%A9s-31-12-2018', '/fr/tlnet-etats-financiers-annuels-consolid%C3%A9s-31-12-2019', '/fr/tpr-etats-financiers-annuels-consolid%C3%A9s-31-12-2018', '/fr/tair-etats-financiers-annuels-consolid%C3%A9s-31-12-2017', '/fr/tls-etats-financiers-annuels-consolid%C3%A9s-31-12-2019', '/fr/uadh-etats-financiers-annuels-consolid%C3%A9s-31-12-2017', '/fr/ubci-etats-financiers-annuels-consolid%C3%A9s-31-12-2019', '/fr/uib-etats-financiers-annuels-consolid%C3%A9s-31-12-2019', '/fr/wifack-international-bank-etats-financiers-annuels-consolid%C3%A9s-31-12-2019']\n"
     ]
    }
   ],
   "source": [
    "print(urls3)"
   ]
  },
  {
   "cell_type": "code",
   "execution_count": 76,
   "metadata": {},
   "outputs": [],
   "source": [
    "import urllib.request\n"
   ]
  },
  {
   "cell_type": "code",
   "execution_count": 92,
   "metadata": {},
   "outputs": [],
   "source": [
    "def generate_link(url):\n",
    "    \n",
    "    prefix = url.replace('/fr/','')\n",
    "    #print(prefix)\n",
    "    prefix = prefix.split(\"-\",2)\n",
    "    print(prefix[0])\n",
    "    \n",
    "    link = prefix[0] +'/etats-financiers/'+ url.replace('/fr/','')\n",
    "    \n",
    "    link = link.replace('%C3%A9','e')\n",
    "    return link"
   ]
  },
  {
   "cell_type": "code",
   "execution_count": 106,
   "metadata": {},
   "outputs": [
    {
     "name": "stdout",
     "output_type": "stream",
     "text": [
      "ab\n",
      "http://www.bvmt.com.tn/sites/default/files/societes/ab/etats-financiers/ab-etats-financiers-annuels-consolides-31-12-2019.pdf\n",
      "good\n",
      "al\n",
      "http://www.bvmt.com.tn/sites/default/files/societes/al/etats-financiers/al-etats-financiers-annuels-consolides-31-12-2019.pdf\n",
      "HTTPError: 404\n",
      "alkim\n",
      "http://www.bvmt.com.tn/sites/default/files/societes/alkim/etats-financiers/alkim-etats-financiers-annuels-consolides-31-12-2019.pdf\n",
      "HTTPError: 404\n",
      "ams\n",
      "http://www.bvmt.com.tn/sites/default/files/societes/ams/etats-financiers/ams-etats-financiers-annuels-consolides-31-12-2015.pdf\n",
      "good\n",
      "artes\n",
      "http://www.bvmt.com.tn/sites/default/files/societes/artes/etats-financiers/artes-etats-financiers-annuels-consolides-31-12-2019.pdf\n",
      "good\n",
      "assad\n",
      "http://www.bvmt.com.tn/sites/default/files/societes/assad/etats-financiers/assad-etats-financiers-annuels-consolides-31-12-2019.pdf\n",
      "good\n",
      "atb\n",
      "http://www.bvmt.com.tn/sites/default/files/societes/atb/etats-financiers/atb-etats-financiers-annuels-consolides-31-12-2019.pdf\n",
      "good\n",
      "atl\n",
      "http://www.bvmt.com.tn/sites/default/files/societes/atl/etats-financiers/atl-etats-financiers-annuels-consolides-31-12-2019.pdf\n",
      "good\n",
      "tjari\n",
      "http://www.bvmt.com.tn/sites/default/files/societes/tjari/etats-financiers/tjari-etats-financiers-annuels-consolides-31-12-2019.pdf\n",
      "HTTPError: 404\n",
      "maghrebia\n",
      "http://www.bvmt.com.tn/sites/default/files/societes/maghrebia/etats-financiers/maghrebia-etats-financiers-annuels-consolides-31-12-2018-0.pdf\n",
      "HTTPError: 404\n",
      "bh\n",
      "http://www.bvmt.com.tn/sites/default/files/societes/bh/etats-financiers/bh-etats-financiers-annuels-consolides-31-12-2019.pdf\n",
      "good\n",
      "biat\n",
      "http://www.bvmt.com.tn/sites/default/files/societes/biat/etats-financiers/biat-etats-financiers-annuels-consolides-31-12-2019.pdf\n",
      "good\n",
      "bna\n",
      "http://www.bvmt.com.tn/sites/default/files/societes/bna/etats-financiers/bna-etats-financiers-annuels-consolides-31-12-2019.pdf\n",
      "good\n",
      "bt\n",
      "http://www.bvmt.com.tn/sites/default/files/societes/bt/etats-financiers/bt-etats-financiers-annuels-consolides-31-12-2019.pdf\n",
      "good\n",
      "bte\n",
      "http://www.bvmt.com.tn/sites/default/files/societes/bte/etats-financiers/bte-etats-financiers-annuels-consolides-31-12-2019.pdf\n",
      "good\n",
      "cell\n",
      "http://www.bvmt.com.tn/sites/default/files/societes/cell/etats-financiers/cell-etats-financiers-annuels-consolides-31-12-2019.pdf\n",
      "HTTPError: 404\n",
      "creal\n",
      "http://www.bvmt.com.tn/sites/default/files/societes/creal/etats-financiers/creal-etats-financiers-annuels-consolides-31-12-2019.pdf\n",
      "HTTPError: 404\n",
      "cil\n",
      "http://www.bvmt.com.tn/sites/default/files/societes/cil/etats-financiers/cil-etats-financiers-annuels-consolides-31-12-2019.pdf\n",
      "good\n",
      "city\n",
      "http://www.bvmt.com.tn/sites/default/files/societes/city/etats-financiers/city-etats-financiers-annuels-consolides-31-12-2019.pdf\n",
      "HTTPError: 404\n",
      "dh\n",
      "http://www.bvmt.com.tn/sites/default/files/societes/dh/etats-financiers/dh-etats-financiers-annuels-consolides-31-12-2019.pdf\n",
      "HTTPError: 404\n",
      "lstr\n",
      "http://www.bvmt.com.tn/sites/default/files/societes/lstr/etats-financiers/lstr-etats-financiers-annuels-consolides-31-12-2019.pdf\n",
      "HTTPError: 404\n",
      "nakl\n",
      "http://www.bvmt.com.tn/sites/default/files/societes/nakl/etats-financiers/nakl-etats-financiers-semestriels-consolides-30-06-2020.pdf\n",
      "HTTPError: 404\n",
      "sokna\n",
      "http://www.bvmt.com.tn/sites/default/files/societes/sokna/etats-financiers/sokna-etats-financiers-annuels-consolides-31-12-2019.pdf\n",
      "HTTPError: 404\n",
      "ecycl\n",
      "http://www.bvmt.com.tn/sites/default/files/societes/ecycl/etats-financiers/ecycl-etats-financiers-semestriels-consolides-30-06-2020.pdf\n",
      "HTTPError: 404\n",
      "gif\n",
      "http://www.bvmt.com.tn/sites/default/files/societes/gif/etats-financiers/gif-etats-financiers-annuels-consolides-31-12-2019.pdf\n",
      "HTTPError: 404\n",
      "hl\n",
      "http://www.bvmt.com.tn/sites/default/files/societes/hl/etats-financiers/hl-etats-financiers-annuels-consolides-31-12-2019.pdf\n",
      "HTTPError: 404\n",
      "lndor\n",
      "http://www.bvmt.com.tn/sites/default/files/societes/lndor/etats-financiers/lndor-etats-financiers-annuels-consolides-31-12-2019.pdf\n",
      "HTTPError: 404\n",
      "mag\n",
      "http://www.bvmt.com.tn/sites/default/files/societes/mag/etats-financiers/mag-etats-financiers-annuels-consolides-31-12-2019.pdf\n",
      "HTTPError: 404\n",
      "mip\n",
      "http://www.bvmt.com.tn/sites/default/files/societes/mip/etats-financiers/mip-etats-financiers-annuels-consolides-31-12-2019.pdf\n",
      "good\n",
      "mnp\n",
      "http://www.bvmt.com.tn/sites/default/files/societes/mnp/etats-financiers/mnp-etats-financiers-annuels-consolides-31-12-2019.pdf\n",
      "HTTPError: 404\n",
      "mpbs\n",
      "http://www.bvmt.com.tn/sites/default/files/societes/mpbs/etats-financiers/mpbs-etats-financiers-annuels-consolides-31-12-2019.pdf\n",
      "good\n",
      "oth\n",
      "http://www.bvmt.com.tn/sites/default/files/societes/oth/etats-financiers/oth-etats-financiers-semestriels-consolides-30-06-2020.pdf\n",
      "HTTPError: 404\n",
      "office\n",
      "http://www.bvmt.com.tn/sites/default/files/societes/office/etats-financiers/office-plast-etats-financiers-annuels-consolides-31-12-2019.pdf\n",
      "HTTPError: 404\n",
      "pgh\n",
      "http://www.bvmt.com.tn/sites/default/files/societes/pgh/etats-financiers/pgh-etats-financiers-semestriels-consolides-30-06-2020.pdf\n",
      "HTTPError: 404\n",
      "sah\n",
      "http://www.bvmt.com.tn/sites/default/files/societes/sah/etats-financiers/sah-etats-financiers-semestriels-consolides-30-06-2020.pdf\n",
      "good\n",
      "sam\n",
      "http://www.bvmt.com.tn/sites/default/files/societes/sam/etats-financiers/sam-etats-financiers-annuels-consolides-31-12-2019.pdf\n",
      "good\n",
      "servi\n",
      "http://www.bvmt.com.tn/sites/default/files/societes/servi/etats-financiers/servi-etats-financiers-annuels-consolides-31-12-2018.pdf\n",
      "HTTPError: 404\n",
      "sfbt\n",
      "http://www.bvmt.com.tn/sites/default/files/societes/sfbt/etats-financiers/sfbt-etats-financiers-annuels-consolides-31-12-2019.pdf\n",
      "good\n",
      "siame\n",
      "http://www.bvmt.com.tn/sites/default/files/societes/siame/etats-financiers/siame-etats-financiers-annuels-consolides-31-12-2019.pdf\n",
      "good\n",
      "simpa\n",
      "http://www.bvmt.com.tn/sites/default/files/societes/simpa/etats-financiers/simpa-etats-financiers-annuels-consolides-31-12-2019.pdf\n",
      "HTTPError: 404\n",
      "sits\n",
      "http://www.bvmt.com.tn/sites/default/files/societes/sits/etats-financiers/sits-etats-financiers-annuels-consolides-31-12-2019.pdf\n",
      "good\n",
      "somoc\n",
      "http://www.bvmt.com.tn/sites/default/files/societes/somoc/etats-financiers/somoc-etats-financiers-annuels-consolides-31-12-2019.pdf\n",
      "HTTPError: 404\n",
      "stpap\n",
      "http://www.bvmt.com.tn/sites/default/files/societes/stpap/etats-financiers/stpap-etats-financiers-annuels-consolides-31-12-2019.pdf\n",
      "HTTPError: 404\n",
      "sotuv\n",
      "http://www.bvmt.com.tn/sites/default/files/societes/sotuv/etats-financiers/sotuv-etats-financiers-annuels-consolides-31-12-2019.pdf\n",
      "HTTPError: 404\n",
      "stb\n",
      "http://www.bvmt.com.tn/sites/default/files/societes/stb/etats-financiers/stb-etats-financiers-annuels-consolides-31-12-2019.pdf\n",
      "good\n",
      "stip\n",
      "http://www.bvmt.com.tn/sites/default/files/societes/stip/etats-financiers/stip-etats-financiers-annuels-consolides-31-12-2020.pdf\n",
      "good\n",
      "tgh\n",
      "http://www.bvmt.com.tn/sites/default/files/societes/tgh/etats-financiers/tgh-etats-financiers-annuels-consolides-31-12-2018.pdf\n",
      "HTTPError: 404\n",
      "tlnet\n",
      "http://www.bvmt.com.tn/sites/default/files/societes/tlnet/etats-financiers/tlnet-etats-financiers-annuels-consolides-31-12-2019.pdf\n",
      "HTTPError: 404\n",
      "tpr\n",
      "http://www.bvmt.com.tn/sites/default/files/societes/tpr/etats-financiers/tpr-etats-financiers-annuels-consolides-31-12-2018.pdf\n",
      "good\n",
      "tair\n",
      "http://www.bvmt.com.tn/sites/default/files/societes/tair/etats-financiers/tair-etats-financiers-annuels-consolides-31-12-2017.pdf\n",
      "HTTPError: 404\n",
      "tls\n",
      "http://www.bvmt.com.tn/sites/default/files/societes/tls/etats-financiers/tls-etats-financiers-annuels-consolides-31-12-2019.pdf\n",
      "HTTPError: 404\n",
      "uadh\n",
      "http://www.bvmt.com.tn/sites/default/files/societes/uadh/etats-financiers/uadh-etats-financiers-annuels-consolides-31-12-2017.pdf\n",
      "good\n",
      "ubci\n",
      "http://www.bvmt.com.tn/sites/default/files/societes/ubci/etats-financiers/ubci-etats-financiers-annuels-consolides-31-12-2019.pdf\n",
      "good\n",
      "uib\n",
      "http://www.bvmt.com.tn/sites/default/files/societes/uib/etats-financiers/uib-etats-financiers-annuels-consolides-31-12-2019.pdf\n",
      "good\n",
      "wifack\n",
      "http://www.bvmt.com.tn/sites/default/files/societes/wifack/etats-financiers/wifack-international-bank-etats-financiers-annuels-consolides-31-12-2019.pdf\n",
      "HTTPError: 404\n",
      "30\n"
     ]
    }
   ],
   "source": [
    "i = 0\n",
    "for link in urls3:\n",
    "    \n",
    "    link = generate_link(link)    \n",
    "    invoice = 'http://www.bvmt.com.tn/sites/default/files/societes/'+link+'.pdf'\n",
    "    print(invoice)\n",
    "    #httpRqst = urllib.request.urlretrieve(invoice, \"filename\"+str(i)+\".pdf\")\n",
    "    \n",
    "    try:\n",
    "        conn = urllib.request.urlopen(invoice)\n",
    "    except urllib.error.HTTPError as e:\n",
    "        # Return code error (e.g. 404, 501, ...)\n",
    "        # ...\n",
    "        print('HTTPError: {}'.format(e.code))\n",
    "        \n",
    "    except urllib.error.URLError as e:\n",
    "        # Not an HTTP-specific error (e.g. connection refused)\n",
    "        # ...\n",
    "        print('URLError: {}'.format(e.reason))\n",
    "        \n",
    "    else:\n",
    "        # 200\n",
    "        # ...\n",
    "        urllib.request.urlretrieve(invoice, \"filename\"+str(i)+\".pdf\")\n",
    "        i+=1\n",
    "        print('good')\n",
    "    \n",
    "print(i)\n",
    "    #invoice_pdf = download_file(invoice)"
   ]
  },
  {
   "cell_type": "code",
   "execution_count": 95,
   "metadata": {},
   "outputs": [
    {
     "name": "stdout",
     "output_type": "stream",
     "text": [
      "True\n"
     ]
    }
   ],
   "source": [
    "str1 = 'http://www.bvmt.com.tn/sites/default/files/societes/ab/etats-financiers/ab-etats-financiers-annuels-consolides-31-12-2019.pdf'\n",
    "str2 = 'http://www.bvmt.com.tn/sites/default/files/societes/ab/etats-financiers/ab-etats-financiers-annuels-consolides-31-12-2019.pdf'\n",
    "\n",
    "print(str1 == str2)"
   ]
  },
  {
   "cell_type": "code",
   "execution_count": null,
   "metadata": {},
   "outputs": [],
   "source": [
    "for link in get_soup(URL).find_all('a'):\n",
    "    file_link = link.get('href')\n",
    "    file_name = link.text\n",
    "    if FILETYPE in file_link:\n",
    "        print (file_link)\n",
    "        print (file_name)\n",
    "        with open('link.txt','wb') as file:\n",
    "            response = requests.get(Domain + file_link)\n",
    "            file.write(response.content)\n",
    "           \n",
    "    "
   ]
  },
  {
   "cell_type": "code",
   "execution_count": null,
   "metadata": {},
   "outputs": [],
   "source": []
  },
  {
   "cell_type": "code",
   "execution_count": null,
   "metadata": {},
   "outputs": [],
   "source": []
  },
  {
   "cell_type": "code",
   "execution_count": null,
   "metadata": {},
   "outputs": [],
   "source": [
    "invoice_pdf"
   ]
  },
  {
   "cell_type": "code",
   "execution_count": null,
   "metadata": {},
   "outputs": [],
   "source": [
    "with pdfplumber.open(invoice_pdf) as pdf:\n",
    "    page = pdf.pages[1]     \n",
    "    text = page.extract_text()\n",
    "    print(text)"
   ]
  },
  {
   "cell_type": "code",
   "execution_count": null,
   "metadata": {},
   "outputs": [],
   "source": [
    "lines = text.split('\\n')"
   ]
  },
  {
   "cell_type": "code",
   "execution_count": null,
   "metadata": {},
   "outputs": [],
   "source": [
    "lines"
   ]
  },
  {
   "cell_type": "code",
   "execution_count": null,
   "metadata": {},
   "outputs": [],
   "source": [
    "import re\n",
    "amt_re = re.compile(r'\\.\\d\\d$')"
   ]
  },
  {
   "cell_type": "code",
   "execution_count": null,
   "metadata": {},
   "outputs": [],
   "source": [
    "subt = 0\n",
    "\n",
    "for line in lines:\n",
    "    if 'SUBTOTAL' in line:\n",
    "        break\n",
    "    if amt_re.search(line):\n",
    "        subt += float(line.split()[-1].replace(',', '').replace('$', ''))"
   ]
  },
  {
   "cell_type": "code",
   "execution_count": null,
   "metadata": {},
   "outputs": [],
   "source": [
    "subt"
   ]
  },
  {
   "cell_type": "code",
   "execution_count": null,
   "metadata": {},
   "outputs": [],
   "source": [
    "lines"
   ]
  },
  {
   "cell_type": "code",
   "execution_count": null,
   "metadata": {},
   "outputs": [],
   "source": [
    "from pandas import DataFrame\n",
    "df = DataFrame (lines,columns=['Column_Name'])\n",
    "df"
   ]
  },
  {
   "cell_type": "code",
   "execution_count": null,
   "metadata": {},
   "outputs": [],
   "source": [
    "text_file = open(\"sample.txt\", \"w\")\n",
    "n = text_file.write(text)\n",
    "text_file.close()"
   ]
  },
  {
   "cell_type": "code",
   "execution_count": null,
   "metadata": {},
   "outputs": [],
   "source": [
    "big_file = open('sample.txt', 'r')\n",
    "small_file3 = open('asef.txt', 'w')\n",
    "for line in big_file:\n",
    "    if 'Total' in line:\n",
    "        small_file3.write(line)\n",
    "big_file.close()\n",
    "small_file3.close()"
   ]
  },
  {
   "cell_type": "code",
   "execution_count": null,
   "metadata": {},
   "outputs": [],
   "source": []
  },
  {
   "cell_type": "code",
   "execution_count": null,
   "metadata": {},
   "outputs": [],
   "source": []
  },
  {
   "cell_type": "code",
   "execution_count": null,
   "metadata": {},
   "outputs": [],
   "source": []
  },
  {
   "cell_type": "code",
   "execution_count": null,
   "metadata": {},
   "outputs": [],
   "source": []
  },
  {
   "cell_type": "code",
   "execution_count": null,
   "metadata": {},
   "outputs": [],
   "source": [
    "import csv\n",
    "with open('delice.csv', 'w', newline='') as myfile:\n",
    "    wr = csv.writer(myfile, quoting=csv.QUOTE_ALL)\n",
    "    wr.writerow(lines)"
   ]
  },
  {
   "cell_type": "code",
   "execution_count": null,
   "metadata": {},
   "outputs": [],
   "source": [
    "# establish a connection to the database\n",
    "connection = pymongo.MongoClient()\n",
    "\n",
    "#get a handle to the test database\n",
    "db = connection.test\n",
    "file_meta = db.file_meta\n",
    "file_used = file_name\n",
    "\n",
    "def main():\n",
    "    coll = db.sample\n",
    "    with open(file_used, \"rb\") as f:\n",
    "        encoded = Binary(f.read())\n",
    "\n",
    "    coll.insert({\"filename\": file_used, \"file\": encoded, \"description\": \"test\" })\n"
   ]
  },
  {
   "cell_type": "code",
   "execution_count": null,
   "metadata": {},
   "outputs": [],
   "source": [
    "from pymongo import MongoClient\n",
    "import gridfs\n",
    "\n",
    "db = MongoClient('mongodb://localhost:27017/').myDB\n",
    "fs = gridfs.GridFS( db )\n",
    "fileID = fs.put( open((file_name)  ))\n",
    "out = fs.get(fileID)"
   ]
  },
  {
   "cell_type": "code",
   "execution_count": null,
   "metadata": {},
   "outputs": [],
   "source": [
    "from pymongo import MongoClient \n",
    "  \n",
    "try: \n",
    "    conn = MongoClient() \n",
    "    print(\"Connected successfully!!!\") \n",
    "except:   \n",
    "    print(\"Could not connect to MongoDB\") "
   ]
  },
  {
   "cell_type": "code",
   "execution_count": null,
   "metadata": {},
   "outputs": [],
   "source": []
  },
  {
   "cell_type": "code",
   "execution_count": null,
   "metadata": {},
   "outputs": [],
   "source": [
    "# database \n",
    "db = conn.database \n",
    "  \n",
    "# Created or Switched to collection names: my_gfg_collection \n",
    "collection = db.my_gfg_collection \n",
    "  \n",
    "emp_rec1 = x\n",
    "\n",
    "  \n",
    "# Insert Data \n",
    "rec_id1 = collection.insert_one(emp_rec1) \n",
    "\n",
    "  \n",
    "print(\"Data inserted with record ids\",rec_id1) \n",
    "  \n",
    "# Printing the data inserted \n",
    "cursor = collection.find() \n",
    "for record in cursor: \n",
    "    print(record) "
   ]
  },
  {
   "cell_type": "code",
   "execution_count": null,
   "metadata": {},
   "outputs": [],
   "source": []
  },
  {
   "cell_type": "code",
   "execution_count": null,
   "metadata": {},
   "outputs": [],
   "source": []
  },
  {
   "cell_type": "code",
   "execution_count": null,
   "metadata": {},
   "outputs": [],
   "source": []
  },
  {
   "cell_type": "code",
   "execution_count": null,
   "metadata": {},
   "outputs": [],
   "source": []
  }
 ],
 "metadata": {
  "kernelspec": {
   "display_name": "Python 3",
   "language": "python",
   "name": "python3"
  },
  "language_info": {
   "codemirror_mode": {
    "name": "ipython",
    "version": 3
   },
   "file_extension": ".py",
   "mimetype": "text/x-python",
   "name": "python",
   "nbconvert_exporter": "python",
   "pygments_lexer": "ipython3",
   "version": "3.8.3"
  }
 },
 "nbformat": 4,
 "nbformat_minor": 4
}
