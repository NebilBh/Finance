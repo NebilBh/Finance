{
 "cells": [
  {
   "cell_type": "code",
   "execution_count": 1,
   "metadata": {},
   "outputs": [],
   "source": [
    "from bs4 import BeautifulSoup as bs\n",
    "import requests\n",
    "import json\n",
    "import numpy as np\n",
    "import pandas as pd\n",
    "#import pymongo\n",
    "import base64\n",
    "import bson\n",
    "#from bson.binary import Binary\n",
    "import os\n",
    "import pdfplumber\n",
    "from urllib.parse import unquote\n",
    "import re"
   ]
  },
  {
   "cell_type": "code",
   "execution_count": 2,
   "metadata": {},
   "outputs": [],
   "source": [
    "Domain='http://www.bvmt.com.tn/'\n",
    "URL='http://www.bvmt.com.tn/fr/ab-etats-financiers-semestriels-30-06-2020'\n",
    "FILETYPE='.pdf'\n",
    "URL0=\"http://www.bvmt.com.tn/fr/entreprises/list\"\n",
    "#URL1=\"http://www.bvmt.com.tn/fr/documents/\"+y+\"/18/list\""
   ]
  },
  {
   "cell_type": "code",
   "execution_count": 3,
   "metadata": {},
   "outputs": [],
   "source": [
    "def get_soup(url):\n",
    "    return bs(requests.get(url).text,'html.parser')"
   ]
  },
  {
   "cell_type": "code",
   "execution_count": 4,
   "metadata": {},
   "outputs": [
    {
     "name": "stdout",
     "output_type": "stream",
     "text": [
      "93\n",
      "68\n",
      "134\n",
      "86\n",
      "87\n",
      "136\n",
      "64\n",
      "70\n",
      "58\n",
      "24\n",
      "49\n",
      "41\n",
      "50\n",
      "1528\n",
      "583\n",
      "42\n",
      "57\n",
      "26\n",
      "43\n",
      "44\n",
      "46\n",
      "60\n",
      "83\n",
      "1174\n",
      "9258\n",
      "51\n",
      "82\n",
      "1124\n",
      "8574\n",
      "77\n",
      "39\n",
      "78\n",
      "184\n",
      "71\n",
      "183\n",
      "88\n",
      "135\n",
      "38\n",
      "1566\n",
      "65\n",
      "1171\n",
      "185\n",
      "133\n",
      "10708\n",
      "54\n",
      "76\n",
      "1170\n",
      "12625\n",
      "12356\n",
      "63\n",
      "74\n",
      "84\n",
      "79\n",
      "69\n",
      "80\n",
      "81\n",
      "37\n",
      "1173\n",
      "62\n",
      "1274\n",
      "90\n",
      "66\n",
      "85\n",
      "55\n",
      "59\n",
      "45\n",
      "72\n",
      "73\n",
      "1278\n",
      "91\n",
      "89\n",
      "56\n",
      "61\n",
      "67\n",
      "53\n",
      "10028\n",
      "47\n",
      "48\n",
      "11547\n",
      "52\n"
     ]
    }
   ],
   "source": [
    "ListID = []\n",
    "for link in get_soup(URL0).find_all('option'):\n",
    "    file_link = link.get('uri')\n",
    "    #print(file_link)\n",
    "    if file_link is not None:\n",
    "        new=file_link.replace('/fr/profile-emetteur_profile/','')\n",
    "        print(new)\n",
    "        ListID.append(new)\n",
    "        file_name = link.text"
   ]
  },
  {
   "cell_type": "code",
   "execution_count": null,
   "metadata": {},
   "outputs": [],
   "source": [
    "print(ListID)"
   ]
  },
  {
   "cell_type": "code",
   "execution_count": 8,
   "metadata": {
    "scrolled": false
   },
   "outputs": [
    {
     "name": "stdout",
     "output_type": "stream",
     "text": [
      "bilan ajouté\n",
      "pas de bilan\n",
      "pas de bilan\n",
      "bilan ajouté\n",
      "bilan ajouté\n",
      "bilan ajouté\n",
      "bilan ajouté\n",
      "bilan ajouté\n",
      "pas de bilan\n",
      "bilan ajouté\n",
      "bilan ajouté\n",
      "bilan ajouté\n",
      "pas de bilan\n",
      "bilan ajouté\n",
      "pas de bilan\n",
      "bilan ajouté\n",
      "pas de bilan\n",
      "bilan ajouté\n",
      "bilan ajouté\n",
      "bilan ajouté\n",
      "bilan ajouté\n",
      "pas de bilan\n",
      "pas de bilan\n",
      "bilan ajouté\n",
      "bilan ajouté\n",
      "bilan ajouté\n",
      "pas de bilan\n",
      "bilan ajouté\n",
      "bilan ajouté\n",
      "bilan ajouté\n",
      "bilan ajouté\n",
      "bilan ajouté\n",
      "bilan ajouté\n",
      "bilan ajouté\n",
      "bilan ajouté\n",
      "pas de bilan\n",
      "bilan ajouté\n",
      "bilan ajouté\n",
      "bilan ajouté\n",
      "bilan ajouté\n",
      "bilan ajouté\n",
      "pas de bilan\n",
      "bilan ajouté\n",
      "bilan ajouté\n",
      "pas de bilan\n",
      "bilan ajouté\n",
      "bilan ajouté\n",
      "bilan ajouté\n",
      "pas de bilan\n",
      "bilan ajouté\n",
      "bilan ajouté\n",
      "bilan ajouté\n",
      "bilan ajouté\n",
      "pas de bilan\n",
      "bilan ajouté\n",
      "bilan ajouté\n",
      "pas de bilan\n",
      "pas de bilan\n",
      "pas de bilan\n",
      "bilan ajouté\n",
      "pas de bilan\n",
      "pas de bilan\n",
      "bilan ajouté\n",
      "pas de bilan\n",
      "pas de bilan\n",
      "bilan ajouté\n",
      "pas de bilan\n",
      "bilan ajouté\n",
      "bilan ajouté\n",
      "bilan ajouté\n",
      "bilan ajouté\n",
      "pas de bilan\n",
      "pas de bilan\n",
      "bilan ajouté\n",
      "bilan ajouté\n",
      "bilan ajouté\n",
      "bilan ajouté\n",
      "bilan ajouté\n",
      "pas de bilan\n",
      "bilan ajouté\n"
     ]
    }
   ],
   "source": [
    "# Recupere les liens de chaque entreprise\n",
    "urls = []\n",
    "urls1 = []\n",
    "urls3 = []\n",
    "\n",
    "for item in ListID:\n",
    "    site= \"http://www.bvmt.com.tn/fr/documents/\"+item+\"/18/list\"\n",
    "    s = get_soup(site)\n",
    "    \n",
    "    #verifie si l'entreprise a un bilan consolidé\n",
    "    pdf0=s.find(\"div\", {'onclick' : re.compile(\"consolid\",re.IGNORECASE)})\n",
    "\n",
    "    #print(pdf0)\n",
    "    \n",
    "    #si l'entreprise n'a pas de bilan consolidé\n",
    "    if(pdf0 is None):\n",
    "        print(\"pas de bilan consolidé\")\n",
    "    #sinon ajoute le lien de l'entreprise dans la liste\n",
    "    else :\n",
    "        print(\"bilan ajouté\")\n",
    "        pdf1=pdf0.get('onclick')\n",
    "        newpdf=pdf1.replace('document.location.href=\\'','')\n",
    "        newpdf=newpdf.replace('\\'','')\n",
    "    \n",
    "        urls3.append(newpdf)\n",
    "    \n",
    " \n",
    "                   \n",
    "        #if href.startswith(\"/fr/content/cours\"):\n",
    "            #urls.append(href)"
   ]
  },
  {
   "cell_type": "code",
   "execution_count": null,
   "metadata": {},
   "outputs": [],
   "source": [
    "def download_file(url):\n",
    "    local_filename = url.split('/')[-1]\n",
    "    \n",
    "    with requests.get(url) as r:\n",
    "        assert r.status_code == 200, f'error, status code is {r.status_code}'\n",
    "        with open(local_filename, 'wb') as f:\n",
    "            f.write(r.content)\n",
    "        \n",
    "    return local_filename"
   ]
  },
  {
   "cell_type": "code",
   "execution_count": 9,
   "metadata": {
    "scrolled": false
   },
   "outputs": [
    {
     "name": "stdout",
     "output_type": "stream",
     "text": [
      "Amen Bank \n",
      "AIR LIQUIDE TUNISIE \n",
      "SOCIETE CHIMIQUE ALKIMIA \n",
      "Société Les Ateliers Mécaniques du Sahel \n",
      "AUTOMOBILE RESEAU TUNISIEN ET SERVICES \n",
      "SOCIETE L'ACCUMULATEUR TUNISIEN \n",
      "ARAB TUNISIAN BANK \n",
      "ARAB TUNISIAN LEASE \n",
      "BANQUE ATTIJARI DE TUNISIE \n",
      "ASSURANCES MAGHREBIA \n",
      "BH BANK \n",
      "BIAT \n",
      "BANQUE NATIONALE AGRICOLE \n",
      "BANQUE DE TUNISIE \n",
      "BANQUE DE TUNISIE ET DES EMIRATS  \n",
      "Société Cellcom \n",
      "CEREALIS \n",
      "COMPAGNIE INTERNATIONALE DE LEASING \n",
      "CITY CARS \n",
      "DELICE HOLDING \n",
      "ELECTROSTAR \n",
      "ENNAKL AUTOMOBILES \n",
      "ESSOUKNA \n",
      "EURO\n",
      "SOCIETE GENERALE INDUSTRIELLE DE FILTRATION \n",
      "HANNIBAL LEASE SA \n",
      "Société « LAND'OR » \n",
      "MAGASIN GENERAL \n",
      "Maghreb International Publicité \n",
      "SOCIETE NOUVELLE MAISON DE LA VILLE DE TUNIS \n",
      "MPBS « Manufacture de Panneaux Bois du Sud » \n",
      "STE ONE TECH HOLDING SA \n",
      "OFFICE PALST \n",
      "POULINA GROUP HOLDING \n",
      "Société d’Articles Hygiéniques SAH SA  \n",
      "SAM \n",
      "SERVICOM \n",
      "Société de Fabrication des Boissons de Tunisie \n",
      "STE IND. D'APPAREILLAGE ET DE MATERIELS ELEC. \n",
      "SOCIETE IMMOBILIERE ET DE PARTICIPATIONS \n",
      "SOCIETE IMMOBILIERE TUNISO\n",
      "SOCIETE MODERNE DE CERAMIQUE \n",
      "Société Tunisienne Industrielle du Papier et du Carton – SOTIPAPIER\n",
      "SOCIETE TUNISIENNE DE VERRERIES \n",
      "SOCIETE TUNISIENNE DE BANQUE \n",
      "STE TUNISIENNE DES INDUSTRIES DE PNEUMATIQUES \n",
      "Tawasol Group Holding \n",
      "TELNET HOLDING \n",
      "SOCIETE TUNISIE PROFILES ALUMINIUM \n",
      "SOCIETE TUNISIENNE DE L’AIR \n",
      "TUNISIE LEASING ET FACTORING \n",
      "UNIVERSAL AUTO DISTRIBORS HOLDING  \n",
      "UNION BANCAIRE POUR LE COMMERCE ET L’INDUSTRIE \n",
      "UNION INTERNATIONALE DE BANQUES \n",
      "WIFACK INTERNATIONAL BANK \"WIB\" \n"
     ]
    }
   ],
   "source": [
    "#Cherhce tout les lien pdf\n",
    "pdfList = {}\n",
    "for link in urls3:\n",
    "    pdfPage = get_soup('http://www.bvmt.com.tn'+link)\n",
    "    \n",
    "    #cherche le lien de telechargement pdf\n",
    "    downLoad = pdfPage.find(\"a\", {'href' : re.compile(\"/default/files/societes/\",re.IGNORECASE)})\n",
    "    \n",
    "    pdfDownload = downLoad.get('href')\n",
    "    #trouve le nom de la societé\n",
    "    compnyName = pdfPage.find('h3').text.strip().split('-',1)\n",
    "    print(compnyName[0])\n",
    "    #dictionnaire clé:nomSocieté  valeur:lien pdf\n",
    "    pdfList[compnyName[0]] = pdfDownload\n",
    "    "
   ]
  },
  {
   "cell_type": "code",
   "execution_count": null,
   "metadata": {},
   "outputs": [],
   "source": [
    "import urllib.request"
   ]
  },
  {
   "cell_type": "code",
   "execution_count": null,
   "metadata": {},
   "outputs": [],
   "source": [
    "i = 0\n",
    "for link in pdfList:\n",
    "    \n",
    "    \n",
    "    #httpRqst = urllib.request.urlretrieve(invoice, \"filename\"+str(i)+\".pdf\")\n",
    "    \n",
    "    try:\n",
    "        conn = urllib.request.urlopen(link)\n",
    "    except urllib.error.HTTPError as e:\n",
    "        # Return code error (e.g. 404, 501, ...)\n",
    "        # ...\n",
    "        print('HTTPError: {}'.format(e.code))\n",
    "        \n",
    "    except urllib.error.URLError as e:\n",
    "        # Not an HTTP-specific error (e.g. connection refused)\n",
    "        # ...\n",
    "        print('URLError: {}'.format(e.reason))\n",
    "        \n",
    "    else:\n",
    "        # 200\n",
    "        # ...\n",
    "        urllib.request.urlretrieve(link, \"etatFinancier\"+str(i)+\".pdf\")\n",
    "        i+=1\n",
    "        print('good')\n",
    "    \n",
    "\n",
    "    #invoice_pdf = download_file(invoice)"
   ]
  },
  {
   "cell_type": "code",
   "execution_count": null,
   "metadata": {},
   "outputs": [],
   "source": [
    "str1 = 'http://www.bvmt.com.tn/sites/default/files/societes/ab/etats-financiers/ab-etats-financiers-annuels-consolides-31-12-2019.pdf'\n",
    "str2 = 'http://www.bvmt.com.tn/sites/default/files/societes/ab/etats-financiers/ab-etats-financiers-annuels-consolides-31-12-2019.pdf'\n",
    "\n",
    "print(str1 == str2)"
   ]
  },
  {
   "cell_type": "code",
   "execution_count": null,
   "metadata": {},
   "outputs": [],
   "source": [
    "\n",
    "           \n",
    "    "
   ]
  },
  {
   "cell_type": "code",
   "execution_count": null,
   "metadata": {},
   "outputs": [],
   "source": []
  },
  {
   "cell_type": "code",
   "execution_count": null,
   "metadata": {},
   "outputs": [],
   "source": []
  },
  {
   "cell_type": "code",
   "execution_count": null,
   "metadata": {},
   "outputs": [],
   "source": [
    "invoice_pdf"
   ]
  },
  {
   "cell_type": "code",
   "execution_count": null,
   "metadata": {},
   "outputs": [],
   "source": [
    "with pdfplumber.open(invoice_pdf) as pdf:\n",
    "    page = pdf.pages[1]     \n",
    "    text = page.extract_text()\n",
    "    print(text)"
   ]
  },
  {
   "cell_type": "code",
   "execution_count": null,
   "metadata": {},
   "outputs": [],
   "source": [
    "lines = text.split('\\n')"
   ]
  },
  {
   "cell_type": "code",
   "execution_count": null,
   "metadata": {},
   "outputs": [],
   "source": [
    "lines"
   ]
  },
  {
   "cell_type": "code",
   "execution_count": null,
   "metadata": {},
   "outputs": [],
   "source": [
    "import re\n",
    "amt_re = re.compile(r'\\.\\d\\d$')"
   ]
  },
  {
   "cell_type": "code",
   "execution_count": null,
   "metadata": {},
   "outputs": [],
   "source": [
    "subt = 0\n",
    "\n",
    "for line in lines:\n",
    "    if 'SUBTOTAL' in line:\n",
    "        break\n",
    "    if amt_re.search(line):\n",
    "        subt += float(line.split()[-1].replace(',', '').replace('$', ''))"
   ]
  },
  {
   "cell_type": "code",
   "execution_count": null,
   "metadata": {},
   "outputs": [],
   "source": [
    "subt"
   ]
  },
  {
   "cell_type": "code",
   "execution_count": null,
   "metadata": {},
   "outputs": [],
   "source": [
    "lines"
   ]
  },
  {
   "cell_type": "code",
   "execution_count": null,
   "metadata": {},
   "outputs": [],
   "source": [
    "from pandas import DataFrame\n",
    "df = DataFrame (lines,columns=['Column_Name'])\n",
    "df"
   ]
  },
  {
   "cell_type": "code",
   "execution_count": null,
   "metadata": {},
   "outputs": [],
   "source": [
    "text_file = open(\"sample.txt\", \"w\")\n",
    "n = text_file.write(text)\n",
    "text_file.close()"
   ]
  },
  {
   "cell_type": "code",
   "execution_count": null,
   "metadata": {},
   "outputs": [],
   "source": [
    "big_file = open('sample.txt', 'r')\n",
    "small_file3 = open('asef.txt', 'w')\n",
    "for line in big_file:\n",
    "    if 'Total' in line:\n",
    "        small_file3.write(line)\n",
    "big_file.close()\n",
    "small_file3.close()"
   ]
  },
  {
   "cell_type": "code",
   "execution_count": null,
   "metadata": {},
   "outputs": [],
   "source": []
  },
  {
   "cell_type": "code",
   "execution_count": null,
   "metadata": {},
   "outputs": [],
   "source": []
  },
  {
   "cell_type": "code",
   "execution_count": null,
   "metadata": {},
   "outputs": [],
   "source": []
  },
  {
   "cell_type": "code",
   "execution_count": null,
   "metadata": {},
   "outputs": [],
   "source": []
  },
  {
   "cell_type": "code",
   "execution_count": null,
   "metadata": {},
   "outputs": [],
   "source": [
    "import csv\n",
    "with open('delice.csv', 'w', newline='') as myfile:\n",
    "    wr = csv.writer(myfile, quoting=csv.QUOTE_ALL)\n",
    "    wr.writerow(lines)"
   ]
  },
  {
   "cell_type": "code",
   "execution_count": null,
   "metadata": {},
   "outputs": [],
   "source": [
    "# establish a connection to the database\n",
    "connection = pymongo.MongoClient()\n",
    "\n",
    "#get a handle to the test database\n",
    "db = connection.test\n",
    "file_meta = db.file_meta\n",
    "file_used = file_name\n",
    "\n",
    "def main():\n",
    "    coll = db.sample\n",
    "    with open(file_used, \"rb\") as f:\n",
    "        encoded = Binary(f.read())\n",
    "\n",
    "    coll.insert({\"filename\": file_used, \"file\": encoded, \"description\": \"test\" })\n"
   ]
  },
  {
   "cell_type": "code",
   "execution_count": null,
   "metadata": {},
   "outputs": [],
   "source": [
    "from pymongo import MongoClient\n",
    "import gridfs\n",
    "\n",
    "db = MongoClient('mongodb://localhost:27017/').myDB\n",
    "fs = gridfs.GridFS( db )\n",
    "fileID = fs.put( open((file_name)  ))\n",
    "out = fs.get(fileID)"
   ]
  },
  {
   "cell_type": "code",
   "execution_count": null,
   "metadata": {},
   "outputs": [],
   "source": [
    "from pymongo import MongoClient \n",
    "  \n",
    "try: \n",
    "    conn = MongoClient() \n",
    "    print(\"Connected successfully!!!\") \n",
    "except:   \n",
    "    print(\"Could not connect to MongoDB\") "
   ]
  },
  {
   "cell_type": "code",
   "execution_count": null,
   "metadata": {},
   "outputs": [],
   "source": []
  },
  {
   "cell_type": "code",
   "execution_count": null,
   "metadata": {},
   "outputs": [],
   "source": [
    "# database \n",
    "db = conn.database \n",
    "  \n",
    "# Created or Switched to collection names: my_gfg_collection \n",
    "collection = db.my_gfg_collection \n",
    "  \n",
    "emp_rec1 = x\n",
    "\n",
    "  \n",
    "# Insert Data \n",
    "rec_id1 = collection.insert_one(emp_rec1) \n",
    "\n",
    "  \n",
    "print(\"Data inserted with record ids\",rec_id1) \n",
    "  \n",
    "# Printing the data inserted \n",
    "cursor = collection.find() \n",
    "for record in cursor: \n",
    "    print(record) "
   ]
  },
  {
   "cell_type": "code",
   "execution_count": null,
   "metadata": {},
   "outputs": [],
   "source": []
  },
  {
   "cell_type": "code",
   "execution_count": null,
   "metadata": {},
   "outputs": [],
   "source": []
  },
  {
   "cell_type": "code",
   "execution_count": null,
   "metadata": {},
   "outputs": [],
   "source": []
  },
  {
   "cell_type": "code",
   "execution_count": null,
   "metadata": {},
   "outputs": [],
   "source": []
  }
 ],
 "metadata": {
  "kernelspec": {
   "display_name": "Python 3",
   "language": "python",
   "name": "python3"
  },
  "language_info": {
   "codemirror_mode": {
    "name": "ipython",
    "version": 3
   },
   "file_extension": ".py",
   "mimetype": "text/x-python",
   "name": "python",
   "nbconvert_exporter": "python",
   "pygments_lexer": "ipython3",
   "version": "3.8.3"
  }
 },
 "nbformat": 4,
 "nbformat_minor": 4
}
