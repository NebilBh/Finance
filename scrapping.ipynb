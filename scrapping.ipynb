{
 "cells": [
  {
   "cell_type": "code",
   "execution_count": 9,
   "metadata": {},
   "outputs": [],
   "source": [
    "from bs4 import BeautifulSoup as bs\n",
    "import requests\n",
    "import json\n",
    "import numpy as np\n",
    "import pandas as pd\n",
    "#import pymongo\n",
    "import base64\n",
    "import bson\n",
    "from bson.binary import Binary\n",
    "import os\n",
    "import pdfplumber\n",
    "from urllib.parse import unquote\n",
    "import re"
   ]
  },
  {
   "cell_type": "markdown",
   "metadata": {},
   "source": [
    "## Web scrapping"
   ]
  },
  {
   "cell_type": "code",
   "execution_count": 10,
   "metadata": {},
   "outputs": [],
   "source": [
    "Domain='http://www.bvmt.com.tn/'\n",
    "URL='http://www.bvmt.com.tn/fr/ab-etats-financiers-semestriels-30-06-2020'\n",
    "FILETYPE='.pdf'\n",
    "URL0=\"http://www.bvmt.com.tn/fr/entreprises/list\"\n"
   ]
  },
  {
   "cell_type": "code",
   "execution_count": 11,
   "metadata": {},
   "outputs": [],
   "source": [
    "def get_soup(url):\n",
    "    return bs(requests.get(url).text,'html.parser')"
   ]
  },
  {
   "cell_type": "code",
   "execution_count": 12,
   "metadata": {
    "scrolled": true
   },
   "outputs": [
    {
     "name": "stdout",
     "output_type": "stream",
     "text": [
      "93\n",
      "68\n",
      "134\n",
      "86\n",
      "87\n",
      "136\n",
      "64\n",
      "70\n",
      "58\n",
      "24\n",
      "49\n",
      "41\n",
      "50\n",
      "1528\n",
      "583\n",
      "42\n",
      "57\n",
      "26\n",
      "43\n",
      "44\n",
      "46\n",
      "60\n",
      "83\n",
      "1174\n",
      "9258\n",
      "51\n",
      "82\n",
      "1124\n",
      "8574\n",
      "77\n",
      "39\n",
      "78\n",
      "184\n",
      "71\n",
      "183\n",
      "88\n",
      "135\n",
      "38\n",
      "1566\n",
      "65\n",
      "1171\n",
      "185\n",
      "133\n",
      "10708\n",
      "54\n",
      "76\n",
      "1170\n",
      "12625\n",
      "12356\n",
      "63\n",
      "74\n",
      "84\n",
      "79\n",
      "69\n",
      "80\n",
      "81\n",
      "37\n",
      "1173\n",
      "62\n",
      "1274\n",
      "90\n",
      "66\n",
      "85\n",
      "55\n",
      "59\n",
      "45\n",
      "72\n",
      "73\n",
      "1278\n",
      "91\n",
      "89\n",
      "56\n",
      "61\n",
      "67\n",
      "53\n",
      "10028\n",
      "47\n",
      "48\n",
      "11547\n",
      "52\n"
     ]
    }
   ],
   "source": [
    "ListID = []\n",
    "for link in get_soup(URL0).find_all('option'):\n",
    "    file_link = link.get('uri')\n",
    "    #print(file_link)\n",
    "    if file_link is not None:\n",
    "        new=file_link.replace('/fr/profile-emetteur_profile/','')\n",
    "        print(new)\n",
    "        ListID.append(new)\n",
    "        file_name = link.text"
   ]
  },
  {
   "cell_type": "code",
   "execution_count": null,
   "metadata": {},
   "outputs": [],
   "source": [
    "print(ListID)"
   ]
  },
  {
   "cell_type": "code",
   "execution_count": 14,
   "metadata": {
    "scrolled": false
   },
   "outputs": [
    {
     "name": "stdout",
     "output_type": "stream",
     "text": [
      "bilan ajouté\n",
      "pas de bilan consolidé\n",
      "pas de bilan consolidé\n",
      "bilan ajouté\n",
      "bilan ajouté\n",
      "bilan ajouté\n",
      "bilan ajouté\n",
      "bilan ajouté\n",
      "pas de bilan consolidé\n",
      "bilan ajouté\n",
      "bilan ajouté\n",
      "bilan ajouté\n",
      "pas de bilan consolidé\n",
      "bilan ajouté\n",
      "pas de bilan consolidé\n",
      "bilan ajouté\n",
      "pas de bilan consolidé\n",
      "bilan ajouté\n",
      "bilan ajouté\n",
      "bilan ajouté\n",
      "bilan ajouté\n",
      "pas de bilan consolidé\n",
      "pas de bilan consolidé\n",
      "bilan ajouté\n",
      "bilan ajouté\n",
      "bilan ajouté\n",
      "pas de bilan consolidé\n",
      "bilan ajouté\n",
      "bilan ajouté\n",
      "bilan ajouté\n",
      "bilan ajouté\n",
      "bilan ajouté\n",
      "bilan ajouté\n",
      "bilan ajouté\n",
      "bilan ajouté\n",
      "pas de bilan consolidé\n",
      "bilan ajouté\n",
      "bilan ajouté\n",
      "bilan ajouté\n",
      "bilan ajouté\n",
      "bilan ajouté\n",
      "pas de bilan consolidé\n",
      "bilan ajouté\n",
      "bilan ajouté\n",
      "pas de bilan consolidé\n",
      "bilan ajouté\n",
      "bilan ajouté\n",
      "bilan ajouté\n",
      "pas de bilan consolidé\n",
      "bilan ajouté\n",
      "bilan ajouté\n",
      "bilan ajouté\n",
      "bilan ajouté\n",
      "pas de bilan consolidé\n",
      "bilan ajouté\n",
      "bilan ajouté\n",
      "pas de bilan consolidé\n",
      "pas de bilan consolidé\n",
      "pas de bilan consolidé\n",
      "bilan ajouté\n",
      "pas de bilan consolidé\n",
      "pas de bilan consolidé\n",
      "bilan ajouté\n",
      "pas de bilan consolidé\n",
      "pas de bilan consolidé\n",
      "bilan ajouté\n",
      "pas de bilan consolidé\n",
      "bilan ajouté\n",
      "bilan ajouté\n",
      "bilan ajouté\n",
      "bilan ajouté\n",
      "pas de bilan consolidé\n",
      "pas de bilan consolidé\n",
      "bilan ajouté\n",
      "bilan ajouté\n",
      "bilan ajouté\n",
      "bilan ajouté\n",
      "bilan ajouté\n",
      "pas de bilan consolidé\n",
      "bilan ajouté\n"
     ]
    }
   ],
   "source": [
    "# Recupere les liens de chaque entreprise\n",
    "urls = []\n",
    "urls1 = []\n",
    "urls3 = []\n",
    "\n",
    "for item in ListID:\n",
    "    site= \"http://www.bvmt.com.tn/fr/documents/\"+item+\"/18/list\"\n",
    "    s = get_soup(site)\n",
    "    \n",
    "    #verifie si l'entreprise a un bilan consolidé\n",
    "    pdf0=s.find(\"div\", {'onclick' : re.compile(\"consolid\",re.IGNORECASE)})\n",
    "\n",
    "    #print(pdf0)\n",
    "    \n",
    "    #si l'entreprise n'a pas de bilan consolidé\n",
    "    if(pdf0 is None):\n",
    "        print(\"pas de bilan consolidé\")\n",
    "    #sinon ajoute le lien de l'entreprise dans la liste\n",
    "    else :\n",
    "        print(\"bilan ajouté\")\n",
    "        pdf1=pdf0.get('onclick')\n",
    "        newpdf=pdf1.replace('document.location.href=\\'','')\n",
    "        newpdf=newpdf.replace('\\'','')\n",
    "    \n",
    "        urls3.append(newpdf)\n",
    "    \n",
    " \n",
    "                   \n",
    "        #if href.startswith(\"/fr/content/cours\"):\n",
    "            #urls.append(href)"
   ]
  },
  {
   "cell_type": "code",
   "execution_count": null,
   "metadata": {},
   "outputs": [],
   "source": [
    "def download_file(url):\n",
    "    local_filename = url.split('/')[-1]\n",
    "    \n",
    "    with requests.get(url) as r:\n",
    "        assert r.status_code == 200, f'error, status code is {r.status_code}'\n",
    "        with open(local_filename, 'wb') as f:\n",
    "            f.write(r.content)\n",
    "        \n",
    "    return local_filename"
   ]
  },
  {
   "cell_type": "code",
   "execution_count": 15,
   "metadata": {
    "scrolled": false
   },
   "outputs": [
    {
     "name": "stdout",
     "output_type": "stream",
     "text": [
      "Amen Bank \n",
      "AIR LIQUIDE TUNISIE \n",
      "SOCIETE CHIMIQUE ALKIMIA \n",
      "Société Les Ateliers Mécaniques du Sahel \n",
      "AUTOMOBILE RESEAU TUNISIEN ET SERVICES \n",
      "SOCIETE L'ACCUMULATEUR TUNISIEN \n",
      "ARAB TUNISIAN BANK \n",
      "ARAB TUNISIAN LEASE \n",
      "BANQUE ATTIJARI DE TUNISIE \n",
      "ASSURANCES MAGHREBIA \n",
      "BH BANK \n",
      "BIAT \n",
      "BANQUE NATIONALE AGRICOLE \n",
      "BANQUE DE TUNISIE \n",
      "BANQUE DE TUNISIE ET DES EMIRATS  \n",
      "Société Cellcom \n",
      "CEREALIS \n",
      "COMPAGNIE INTERNATIONALE DE LEASING \n",
      "CITY CARS \n",
      "DELICE HOLDING \n",
      "ELECTROSTAR \n",
      "ENNAKL AUTOMOBILES \n",
      "ESSOUKNA \n",
      "EURO\n",
      "SOCIETE GENERALE INDUSTRIELLE DE FILTRATION \n",
      "HANNIBAL LEASE SA \n",
      "Société « LAND'OR » \n",
      "MAGASIN GENERAL \n",
      "Maghreb International Publicité \n",
      "SOCIETE NOUVELLE MAISON DE LA VILLE DE TUNIS \n",
      "MPBS « Manufacture de Panneaux Bois du Sud » \n",
      "STE ONE TECH HOLDING SA \n",
      "OFFICE PALST \n",
      "POULINA GROUP HOLDING \n",
      "Société d’Articles Hygiéniques SAH SA  \n",
      "SAM \n",
      "SERVICOM \n",
      "Société de Fabrication des Boissons de Tunisie \n",
      "STE IND. D'APPAREILLAGE ET DE MATERIELS ELEC. \n",
      "SOCIETE IMMOBILIERE ET DE PARTICIPATIONS \n",
      "SOCIETE IMMOBILIERE TUNISO\n",
      "SOCIETE MODERNE DE CERAMIQUE \n",
      "Société Tunisienne Industrielle du Papier et du Carton – SOTIPAPIER\n",
      "SOCIETE TUNISIENNE DE VERRERIES \n",
      "SOCIETE TUNISIENNE DE BANQUE \n",
      "STE TUNISIENNE DES INDUSTRIES DE PNEUMATIQUES \n",
      "Tawasol Group Holding \n",
      "TELNET HOLDING \n",
      "SOCIETE TUNISIE PROFILES ALUMINIUM \n",
      "SOCIETE TUNISIENNE DE L’AIR \n",
      "TUNISIE LEASING ET FACTORING \n",
      "UNIVERSAL AUTO DISTRIBORS HOLDING  \n",
      "UNION BANCAIRE POUR LE COMMERCE ET L’INDUSTRIE \n",
      "UNION INTERNATIONALE DE BANQUES \n",
      "WIFACK INTERNATIONAL BANK \"WIB\" \n"
     ]
    }
   ],
   "source": [
    "#Cherhce tout les lien pdf\n",
    "\n",
    "#dictionnaire pdfList\n",
    "pdfList = {}\n",
    "for link in urls3:\n",
    "    pdfPage = get_soup('http://www.bvmt.com.tn'+link)\n",
    "    \n",
    "    #cherche le lien de telechargement pdf\n",
    "    downLoad = pdfPage.find(\"a\", {'href' : re.compile(\"/default/files/societes/\",re.IGNORECASE)})\n",
    "    \n",
    "    pdfDownload = downLoad.get('href')\n",
    "    #trouve le nom de la societé\n",
    "    compnyName = pdfPage.find('h3').text.strip().split('-',1)\n",
    "    print(compnyName[0])\n",
    "    #dictionnaire clé:nomSocieté  valeur:lien pdf\n",
    "    pdfList[compnyName[0]] = pdfDownload\n",
    "    "
   ]
  },
  {
   "cell_type": "code",
   "execution_count": 23,
   "metadata": {},
   "outputs": [
    {
     "name": "stdout",
     "output_type": "stream",
     "text": [
      "55\n"
     ]
    }
   ],
   "source": [
    "print (len(pdfList))"
   ]
  },
  {
   "cell_type": "code",
   "execution_count": null,
   "metadata": {},
   "outputs": [],
   "source": [
    "import urllib.request"
   ]
  },
  {
   "cell_type": "code",
   "execution_count": null,
   "metadata": {},
   "outputs": [],
   "source": [
    "#telecharge tous les pdfs\n",
    "i = 0\n",
    "for link in pdfList: \n",
    "    \n",
    "    try:\n",
    "        conn = urllib.request.urlopen(link)\n",
    "    except urllib.error.HTTPError as e:\n",
    "        # Return code error (e.g. 404, 501, ...)\n",
    "        # ...\n",
    "        print('HTTPError: {}'.format(e.code))\n",
    "        \n",
    "    except urllib.error.URLError as e:\n",
    "        # Not an HTTP-specific error (e.g. connection refused)\n",
    "        # ...\n",
    "        print('URLError: {}'.format(e.reason))\n",
    "        \n",
    "    else:\n",
    "        # 200\n",
    "        # ...\n",
    "        urllib.request.urlretrieve(link, \"etatFinancier\"+str(i)+\".pdf\")\n",
    "        i+=1\n",
    "        print('good')\n",
    "    \n",
    "\n",
    "    #invoice_pdf = download_file(invoice)"
   ]
  },
  {
   "cell_type": "markdown",
   "metadata": {},
   "source": [
    "### stockage dans la base"
   ]
  },
  {
   "cell_type": "code",
   "execution_count": 6,
   "metadata": {
    "scrolled": true
   },
   "outputs": [],
   "source": [
    "import pymongo\n",
    "from pymongo import MongoClient"
   ]
  },
  {
   "cell_type": "code",
   "execution_count": 7,
   "metadata": {},
   "outputs": [],
   "source": [
    "#Connection avec la base de données\n",
    "cluster = MongoClient('mongodb://localhost:27017/')\n",
    "db = cluster['Finance']\n",
    "collection = db['DocuPdf']\n"
   ]
  },
  {
   "cell_type": "code",
   "execution_count": 20,
   "metadata": {},
   "outputs": [
    {
     "data": {
      "text/plain": [
       "<pymongo.results.InsertManyResult at 0x2524db7fb00>"
      ]
     },
     "execution_count": 20,
     "metadata": {},
     "output_type": "execute_result"
    }
   ],
   "source": [
    "#Ajoute dans la base de données\n",
    "count = 0\n",
    "postList = []\n",
    "for key, value in pdfList.items():\n",
    "    count += 1;\n",
    "    postList.append({'_id':count,'companie' : key,'lien':value })\n",
    "\n",
    "collection.insert_many(postList)\n",
    "    "
   ]
  },
  {
   "cell_type": "markdown",
   "metadata": {},
   "source": [
    "## Preparation de données"
   ]
  },
  {
   "cell_type": "code",
   "execution_count": 4,
   "metadata": {},
   "outputs": [],
   "source": [
    "import cv2\n",
    "from PIL import Image\n",
    "import pytesseract \n",
    "import sys \n",
    "from pdf2image import convert_from_path \n",
    "import os "
   ]
  },
  {
   "cell_type": "code",
   "execution_count": 5,
   "metadata": {},
   "outputs": [
    {
     "data": {
      "text/plain": [
       "<function pytesseract.pytesseract.image_to_string(image, lang=None, config='', nice=0, output_type='string', timeout=0)>"
      ]
     },
     "execution_count": 5,
     "metadata": {},
     "output_type": "execute_result"
    }
   ],
   "source": []
  },
  {
   "cell_type": "code",
   "execution_count": 6,
   "metadata": {},
   "outputs": [],
   "source": [
    "# Path of the pdf \n",
    "PDF_file = \"etat.pdf\"\n",
    "\n",
    "    \n",
    "''' \n",
    "Part #1 : Converting PDF to images \n",
    "'''\n",
    "#convert_from_path(poppler_path=r'C:\\Users\\anaconda3\\envs\\poppler\\bin')\n",
    "  \n",
    "# Store all the pages of the PDF in a variable \n",
    "pages = convert_from_path(PDF_file, 500,poppler_path = r'C:\\Users\\Nebil\\poppler\\poppler-0.68.0\\bin') \n",
    "  \n",
    "# Counter to store images of each page of PDF to image \n",
    "image_counter = 1\n",
    "  \n",
    "# Iterate through all the pages stored above \n",
    "for page in pages: \n",
    "  \n",
    "    # Declaring filename for each page of PDF as JPG \n",
    "    # For each page, filename will be: \n",
    "    # PDF page 1 -> page_1.jpg \n",
    "    # PDF page 2 -> page_2.jpg \n",
    "    # PDF page 3 -> page_3.jpg \n",
    "    # .... \n",
    "    # PDF page n -> page_n.jpg \n",
    "    filename = \"page_\"+str(image_counter)+\".jpg\"\n",
    "      \n",
    "    # Save the image of the page in system \n",
    "    page.save(filename, 'JPEG') \n",
    "  \n",
    "    # Increment the counter to update filename \n",
    "    image_counter = image_counter + 1\n",
    " "
   ]
  },
  {
   "cell_type": "code",
   "execution_count": 7,
   "metadata": {},
   "outputs": [
    {
     "ename": "TesseractNotFoundError",
     "evalue": "tesseract is not installed or it's not in your PATH. See README file for more information.",
     "output_type": "error",
     "traceback": [
      "\u001b[1;31m---------------------------------------------------------------------------\u001b[0m",
      "\u001b[1;31mFileNotFoundError\u001b[0m                         Traceback (most recent call last)",
      "\u001b[1;32m~\\anaconda3\\lib\\site-packages\\pytesseract\\pytesseract.py\u001b[0m in \u001b[0;36mrun_tesseract\u001b[1;34m(input_filename, output_filename_base, extension, lang, config, nice, timeout)\u001b[0m\n\u001b[0;32m    254\u001b[0m     \u001b[1;32mtry\u001b[0m\u001b[1;33m:\u001b[0m\u001b[1;33m\u001b[0m\u001b[1;33m\u001b[0m\u001b[0m\n\u001b[1;32m--> 255\u001b[1;33m         \u001b[0mproc\u001b[0m \u001b[1;33m=\u001b[0m \u001b[0msubprocess\u001b[0m\u001b[1;33m.\u001b[0m\u001b[0mPopen\u001b[0m\u001b[1;33m(\u001b[0m\u001b[0mcmd_args\u001b[0m\u001b[1;33m,\u001b[0m \u001b[1;33m**\u001b[0m\u001b[0msubprocess_args\u001b[0m\u001b[1;33m(\u001b[0m\u001b[1;33m)\u001b[0m\u001b[1;33m)\u001b[0m\u001b[1;33m\u001b[0m\u001b[1;33m\u001b[0m\u001b[0m\n\u001b[0m\u001b[0;32m    256\u001b[0m     \u001b[1;32mexcept\u001b[0m \u001b[0mOSError\u001b[0m \u001b[1;32mas\u001b[0m \u001b[0me\u001b[0m\u001b[1;33m:\u001b[0m\u001b[1;33m\u001b[0m\u001b[1;33m\u001b[0m\u001b[0m\n",
      "\u001b[1;32m~\\anaconda3\\lib\\subprocess.py\u001b[0m in \u001b[0;36m__init__\u001b[1;34m(self, args, bufsize, executable, stdin, stdout, stderr, preexec_fn, close_fds, shell, cwd, env, universal_newlines, startupinfo, creationflags, restore_signals, start_new_session, pass_fds, encoding, errors, text)\u001b[0m\n\u001b[0;32m    853\u001b[0m \u001b[1;33m\u001b[0m\u001b[0m\n\u001b[1;32m--> 854\u001b[1;33m             self._execute_child(args, executable, preexec_fn, close_fds,\n\u001b[0m\u001b[0;32m    855\u001b[0m                                 \u001b[0mpass_fds\u001b[0m\u001b[1;33m,\u001b[0m \u001b[0mcwd\u001b[0m\u001b[1;33m,\u001b[0m \u001b[0menv\u001b[0m\u001b[1;33m,\u001b[0m\u001b[1;33m\u001b[0m\u001b[1;33m\u001b[0m\u001b[0m\n",
      "\u001b[1;32m~\\anaconda3\\lib\\subprocess.py\u001b[0m in \u001b[0;36m_execute_child\u001b[1;34m(self, args, executable, preexec_fn, close_fds, pass_fds, cwd, env, startupinfo, creationflags, shell, p2cread, p2cwrite, c2pread, c2pwrite, errread, errwrite, unused_restore_signals, unused_start_new_session)\u001b[0m\n\u001b[0;32m   1306\u001b[0m             \u001b[1;32mtry\u001b[0m\u001b[1;33m:\u001b[0m\u001b[1;33m\u001b[0m\u001b[1;33m\u001b[0m\u001b[0m\n\u001b[1;32m-> 1307\u001b[1;33m                 hp, ht, pid, tid = _winapi.CreateProcess(executable, args,\n\u001b[0m\u001b[0;32m   1308\u001b[0m                                          \u001b[1;31m# no special security\u001b[0m\u001b[1;33m\u001b[0m\u001b[1;33m\u001b[0m\u001b[1;33m\u001b[0m\u001b[0m\n",
      "\u001b[1;31mFileNotFoundError\u001b[0m: [WinError 2] Le fichier spécifié est introuvable",
      "\nDuring handling of the above exception, another exception occurred:\n",
      "\u001b[1;31mTesseractNotFoundError\u001b[0m                    Traceback (most recent call last)",
      "\u001b[1;32m<ipython-input-7-23328fd2a4d4>\u001b[0m in \u001b[0;36m<module>\u001b[1;34m\u001b[0m\n\u001b[0;32m     25\u001b[0m \u001b[1;33m\u001b[0m\u001b[0m\n\u001b[0;32m     26\u001b[0m     \u001b[1;31m# Recognize the text as string in image using pytesserct\u001b[0m\u001b[1;33m\u001b[0m\u001b[1;33m\u001b[0m\u001b[1;33m\u001b[0m\u001b[0m\n\u001b[1;32m---> 27\u001b[1;33m     \u001b[0mtext\u001b[0m \u001b[1;33m=\u001b[0m \u001b[0mstr\u001b[0m\u001b[1;33m(\u001b[0m\u001b[1;33m(\u001b[0m\u001b[1;33m(\u001b[0m\u001b[0mpytesseract\u001b[0m\u001b[1;33m.\u001b[0m\u001b[0mimage_to_string\u001b[0m\u001b[1;33m(\u001b[0m\u001b[0mImage\u001b[0m\u001b[1;33m.\u001b[0m\u001b[0mopen\u001b[0m\u001b[1;33m(\u001b[0m\u001b[0mfilename\u001b[0m\u001b[1;33m)\u001b[0m\u001b[1;33m)\u001b[0m\u001b[1;33m)\u001b[0m\u001b[1;33m)\u001b[0m\u001b[1;33m)\u001b[0m\u001b[1;33m\u001b[0m\u001b[1;33m\u001b[0m\u001b[0m\n\u001b[0m\u001b[0;32m     28\u001b[0m \u001b[1;33m\u001b[0m\u001b[0m\n\u001b[0;32m     29\u001b[0m     \u001b[1;31m# The recognized text is stored in variable text\u001b[0m\u001b[1;33m\u001b[0m\u001b[1;33m\u001b[0m\u001b[1;33m\u001b[0m\u001b[0m\n",
      "\u001b[1;32m~\\anaconda3\\lib\\site-packages\\pytesseract\\pytesseract.py\u001b[0m in \u001b[0;36mimage_to_string\u001b[1;34m(image, lang, config, nice, output_type, timeout)\u001b[0m\n\u001b[0;32m    407\u001b[0m     \u001b[0margs\u001b[0m \u001b[1;33m=\u001b[0m \u001b[1;33m[\u001b[0m\u001b[0mimage\u001b[0m\u001b[1;33m,\u001b[0m \u001b[1;34m'txt'\u001b[0m\u001b[1;33m,\u001b[0m \u001b[0mlang\u001b[0m\u001b[1;33m,\u001b[0m \u001b[0mconfig\u001b[0m\u001b[1;33m,\u001b[0m \u001b[0mnice\u001b[0m\u001b[1;33m,\u001b[0m \u001b[0mtimeout\u001b[0m\u001b[1;33m]\u001b[0m\u001b[1;33m\u001b[0m\u001b[1;33m\u001b[0m\u001b[0m\n\u001b[0;32m    408\u001b[0m \u001b[1;33m\u001b[0m\u001b[0m\n\u001b[1;32m--> 409\u001b[1;33m     return {\n\u001b[0m\u001b[0;32m    410\u001b[0m         \u001b[0mOutput\u001b[0m\u001b[1;33m.\u001b[0m\u001b[0mBYTES\u001b[0m\u001b[1;33m:\u001b[0m \u001b[1;32mlambda\u001b[0m\u001b[1;33m:\u001b[0m \u001b[0mrun_and_get_output\u001b[0m\u001b[1;33m(\u001b[0m\u001b[1;33m*\u001b[0m\u001b[1;33m(\u001b[0m\u001b[0margs\u001b[0m \u001b[1;33m+\u001b[0m \u001b[1;33m[\u001b[0m\u001b[1;32mTrue\u001b[0m\u001b[1;33m]\u001b[0m\u001b[1;33m)\u001b[0m\u001b[1;33m)\u001b[0m\u001b[1;33m,\u001b[0m\u001b[1;33m\u001b[0m\u001b[1;33m\u001b[0m\u001b[0m\n\u001b[0;32m    411\u001b[0m         \u001b[0mOutput\u001b[0m\u001b[1;33m.\u001b[0m\u001b[0mDICT\u001b[0m\u001b[1;33m:\u001b[0m \u001b[1;32mlambda\u001b[0m\u001b[1;33m:\u001b[0m \u001b[1;33m{\u001b[0m\u001b[1;34m'text'\u001b[0m\u001b[1;33m:\u001b[0m \u001b[0mrun_and_get_output\u001b[0m\u001b[1;33m(\u001b[0m\u001b[1;33m*\u001b[0m\u001b[0margs\u001b[0m\u001b[1;33m)\u001b[0m\u001b[1;33m}\u001b[0m\u001b[1;33m,\u001b[0m\u001b[1;33m\u001b[0m\u001b[1;33m\u001b[0m\u001b[0m\n",
      "\u001b[1;32m~\\anaconda3\\lib\\site-packages\\pytesseract\\pytesseract.py\u001b[0m in \u001b[0;36m<lambda>\u001b[1;34m()\u001b[0m\n\u001b[0;32m    410\u001b[0m         \u001b[0mOutput\u001b[0m\u001b[1;33m.\u001b[0m\u001b[0mBYTES\u001b[0m\u001b[1;33m:\u001b[0m \u001b[1;32mlambda\u001b[0m\u001b[1;33m:\u001b[0m \u001b[0mrun_and_get_output\u001b[0m\u001b[1;33m(\u001b[0m\u001b[1;33m*\u001b[0m\u001b[1;33m(\u001b[0m\u001b[0margs\u001b[0m \u001b[1;33m+\u001b[0m \u001b[1;33m[\u001b[0m\u001b[1;32mTrue\u001b[0m\u001b[1;33m]\u001b[0m\u001b[1;33m)\u001b[0m\u001b[1;33m)\u001b[0m\u001b[1;33m,\u001b[0m\u001b[1;33m\u001b[0m\u001b[1;33m\u001b[0m\u001b[0m\n\u001b[0;32m    411\u001b[0m         \u001b[0mOutput\u001b[0m\u001b[1;33m.\u001b[0m\u001b[0mDICT\u001b[0m\u001b[1;33m:\u001b[0m \u001b[1;32mlambda\u001b[0m\u001b[1;33m:\u001b[0m \u001b[1;33m{\u001b[0m\u001b[1;34m'text'\u001b[0m\u001b[1;33m:\u001b[0m \u001b[0mrun_and_get_output\u001b[0m\u001b[1;33m(\u001b[0m\u001b[1;33m*\u001b[0m\u001b[0margs\u001b[0m\u001b[1;33m)\u001b[0m\u001b[1;33m}\u001b[0m\u001b[1;33m,\u001b[0m\u001b[1;33m\u001b[0m\u001b[1;33m\u001b[0m\u001b[0m\n\u001b[1;32m--> 412\u001b[1;33m         \u001b[0mOutput\u001b[0m\u001b[1;33m.\u001b[0m\u001b[0mSTRING\u001b[0m\u001b[1;33m:\u001b[0m \u001b[1;32mlambda\u001b[0m\u001b[1;33m:\u001b[0m \u001b[0mrun_and_get_output\u001b[0m\u001b[1;33m(\u001b[0m\u001b[1;33m*\u001b[0m\u001b[0margs\u001b[0m\u001b[1;33m)\u001b[0m\u001b[1;33m,\u001b[0m\u001b[1;33m\u001b[0m\u001b[1;33m\u001b[0m\u001b[0m\n\u001b[0m\u001b[0;32m    413\u001b[0m     }[output_type]()\n\u001b[0;32m    414\u001b[0m \u001b[1;33m\u001b[0m\u001b[0m\n",
      "\u001b[1;32m~\\anaconda3\\lib\\site-packages\\pytesseract\\pytesseract.py\u001b[0m in \u001b[0;36mrun_and_get_output\u001b[1;34m(image, extension, lang, config, nice, timeout, return_bytes)\u001b[0m\n\u001b[0;32m    285\u001b[0m         }\n\u001b[0;32m    286\u001b[0m \u001b[1;33m\u001b[0m\u001b[0m\n\u001b[1;32m--> 287\u001b[1;33m         \u001b[0mrun_tesseract\u001b[0m\u001b[1;33m(\u001b[0m\u001b[1;33m**\u001b[0m\u001b[0mkwargs\u001b[0m\u001b[1;33m)\u001b[0m\u001b[1;33m\u001b[0m\u001b[1;33m\u001b[0m\u001b[0m\n\u001b[0m\u001b[0;32m    288\u001b[0m         \u001b[0mfilename\u001b[0m \u001b[1;33m=\u001b[0m \u001b[0mkwargs\u001b[0m\u001b[1;33m[\u001b[0m\u001b[1;34m'output_filename_base'\u001b[0m\u001b[1;33m]\u001b[0m \u001b[1;33m+\u001b[0m \u001b[0mextsep\u001b[0m \u001b[1;33m+\u001b[0m \u001b[0mextension\u001b[0m\u001b[1;33m\u001b[0m\u001b[1;33m\u001b[0m\u001b[0m\n\u001b[0;32m    289\u001b[0m         \u001b[1;32mwith\u001b[0m \u001b[0mopen\u001b[0m\u001b[1;33m(\u001b[0m\u001b[0mfilename\u001b[0m\u001b[1;33m,\u001b[0m \u001b[1;34m'rb'\u001b[0m\u001b[1;33m)\u001b[0m \u001b[1;32mas\u001b[0m \u001b[0moutput_file\u001b[0m\u001b[1;33m:\u001b[0m\u001b[1;33m\u001b[0m\u001b[1;33m\u001b[0m\u001b[0m\n",
      "\u001b[1;32m~\\anaconda3\\lib\\site-packages\\pytesseract\\pytesseract.py\u001b[0m in \u001b[0;36mrun_tesseract\u001b[1;34m(input_filename, output_filename_base, extension, lang, config, nice, timeout)\u001b[0m\n\u001b[0;32m    257\u001b[0m         \u001b[1;32mif\u001b[0m \u001b[0me\u001b[0m\u001b[1;33m.\u001b[0m\u001b[0merrno\u001b[0m \u001b[1;33m!=\u001b[0m \u001b[0mENOENT\u001b[0m\u001b[1;33m:\u001b[0m\u001b[1;33m\u001b[0m\u001b[1;33m\u001b[0m\u001b[0m\n\u001b[0;32m    258\u001b[0m             \u001b[1;32mraise\u001b[0m \u001b[0me\u001b[0m\u001b[1;33m\u001b[0m\u001b[1;33m\u001b[0m\u001b[0m\n\u001b[1;32m--> 259\u001b[1;33m         \u001b[1;32mraise\u001b[0m \u001b[0mTesseractNotFoundError\u001b[0m\u001b[1;33m(\u001b[0m\u001b[1;33m)\u001b[0m\u001b[1;33m\u001b[0m\u001b[1;33m\u001b[0m\u001b[0m\n\u001b[0m\u001b[0;32m    260\u001b[0m \u001b[1;33m\u001b[0m\u001b[0m\n\u001b[0;32m    261\u001b[0m     \u001b[1;32mwith\u001b[0m \u001b[0mtimeout_manager\u001b[0m\u001b[1;33m(\u001b[0m\u001b[0mproc\u001b[0m\u001b[1;33m,\u001b[0m \u001b[0mtimeout\u001b[0m\u001b[1;33m)\u001b[0m \u001b[1;32mas\u001b[0m \u001b[0merror_string\u001b[0m\u001b[1;33m:\u001b[0m\u001b[1;33m\u001b[0m\u001b[1;33m\u001b[0m\u001b[0m\n",
      "\u001b[1;31mTesseractNotFoundError\u001b[0m: tesseract is not installed or it's not in your PATH. See README file for more information."
     ]
    }
   ],
   "source": [
    " \n",
    "''' \n",
    "Part #2 - Recognizing text from the images using OCR \n",
    "'''\n",
    "    \n",
    "# Variable to get count of total number of pages \n",
    "filelimit = image_counter-1\n",
    "  \n",
    "# Creating a text file to write the output \n",
    "outfile = \"out_text.txt\"\n",
    "  \n",
    "# Open the file in append mode so that  \n",
    "# All contents of all images are added to the same file \n",
    "f = open(outfile, \"a\") \n",
    "  \n",
    "# Iterate from 1 to total number of pages \n",
    "for i in range(1, filelimit + 1): \n",
    "  \n",
    "    # Set filename to recognize text from \n",
    "    # Again, these files will be: \n",
    "    # page_1.jpg \n",
    "    # page_2.jpg \n",
    "    # .... \n",
    "    # page_n.jpg \n",
    "    filename = \"page_\"+str(i)+\".jpg\"\n",
    "          \n",
    "    # Recognize the text as string in image using pytesserct \n",
    "    text = str(((pytesseract.image_to_string(Image.open(filename))))) \n",
    "  \n",
    "    # The recognized text is stored in variable text \n",
    "    # Any string processing may be applied on text \n",
    "    # Here, basic formatting has been done: \n",
    "    # In many PDFs, at line ending, if a word can't \n",
    "    # be written fully, a 'hyphen' is added. \n",
    "    # The rest of the word is written in the next line \n",
    "    # Eg: This is a sample text this word here GeeksF- \n",
    "    # orGeeks is half on first line, remaining on next. \n",
    "    # To remove this, we replace every '-\\n' to ''. \n",
    "    text = text.replace('-\\n', '')     \n",
    "  \n",
    "    # Finally, write the processed text to the file. \n",
    "    f.write(text) \n",
    "  \n",
    "# Close the file after writing all the text. \n",
    "f.close() "
   ]
  },
  {
   "cell_type": "code",
   "execution_count": null,
   "metadata": {},
   "outputs": [],
   "source": [
    "import csv\n",
    "with open('delice.csv', 'w', newline='') as myfile:\n",
    "    wr = csv.writer(myfile, quoting=csv.QUOTE_ALL)\n",
    "    wr.writerow(lines)"
   ]
  },
  {
   "cell_type": "code",
   "execution_count": null,
   "metadata": {},
   "outputs": [],
   "source": [
    "# establish a connection to the database\n",
    "connection = pymongo.MongoClient()\n",
    "\n",
    "#get a handle to the test database\n",
    "db = connection.test\n",
    "file_meta = db.file_meta\n",
    "file_used = file_name\n",
    "\n",
    "def main():\n",
    "    coll = db.sample\n",
    "    with open(file_used, \"rb\") as f:\n",
    "        encoded = Binary(f.read())\n",
    "\n",
    "    coll.insert({\"filename\": file_used, \"file\": encoded, \"description\": \"test\" })\n"
   ]
  },
  {
   "cell_type": "code",
   "execution_count": null,
   "metadata": {},
   "outputs": [],
   "source": [
    "from pymongo import MongoClient\n",
    "import gridfs\n",
    "\n",
    "db = MongoClient('mongodb://localhost:27017/').myDB\n",
    "fs = gridfs.GridFS( db )\n",
    "fileID = fs.put( open((file_name)  ))\n",
    "out = fs.get(fileID)"
   ]
  },
  {
   "cell_type": "code",
   "execution_count": null,
   "metadata": {},
   "outputs": [],
   "source": [
    "from pymongo import MongoClient \n",
    "  \n",
    "try: \n",
    "    conn = MongoClient() \n",
    "    print(\"Connected successfully!!!\") \n",
    "except:   \n",
    "    print(\"Could not connect to MongoDB\") "
   ]
  },
  {
   "cell_type": "code",
   "execution_count": null,
   "metadata": {},
   "outputs": [],
   "source": []
  },
  {
   "cell_type": "code",
   "execution_count": null,
   "metadata": {},
   "outputs": [],
   "source": [
    "# database \n",
    "db = conn.database \n",
    "  \n",
    "# Created or Switched to collection names: my_gfg_collection \n",
    "collection = db.my_gfg_collection \n",
    "  \n",
    "emp_rec1 = x\n",
    "\n",
    "  \n",
    "# Insert Data \n",
    "rec_id1 = collection.insert_one(emp_rec1) \n",
    "\n",
    "  \n",
    "print(\"Data inserted with record ids\",rec_id1) \n",
    "  \n",
    "# Printing the data inserted \n",
    "cursor = collection.find() \n",
    "for record in cursor: \n",
    "    print(record) "
   ]
  },
  {
   "cell_type": "code",
   "execution_count": null,
   "metadata": {},
   "outputs": [],
   "source": []
  },
  {
   "cell_type": "code",
   "execution_count": null,
   "metadata": {},
   "outputs": [],
   "source": []
  },
  {
   "cell_type": "code",
   "execution_count": null,
   "metadata": {},
   "outputs": [],
   "source": []
  },
  {
   "cell_type": "code",
   "execution_count": null,
   "metadata": {},
   "outputs": [],
   "source": []
  }
 ],
 "metadata": {
  "kernelspec": {
   "display_name": "Python 3",
   "language": "python",
   "name": "python3"
  },
  "language_info": {
   "codemirror_mode": {
    "name": "ipython",
    "version": 3
   },
   "file_extension": ".py",
   "mimetype": "text/x-python",
   "name": "python",
   "nbconvert_exporter": "python",
   "pygments_lexer": "ipython3",
   "version": "3.8.3"
  }
 },
 "nbformat": 4,
 "nbformat_minor": 4
}
